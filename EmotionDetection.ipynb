{
  "nbformat": 4,
  "nbformat_minor": 0,
  "metadata": {
    "colab": {
      "name": "EmotionDetection.ipynb",
      "provenance": [],
      "collapsed_sections": [],
      "authorship_tag": "ABX9TyOTjLglK3ZtCDXmaE15PVhZ",
      "include_colab_link": true
    },
    "kernelspec": {
      "name": "python3",
      "display_name": "Python 3"
    },
    "language_info": {
      "name": "python"
    },
    "accelerator": "GPU",
    "widgets": {
      "application/vnd.jupyter.widget-state+json": {
        "9b59210348464eeeb48ab760a77ae8c6": {
          "model_module": "@jupyter-widgets/controls",
          "model_name": "HBoxModel",
          "state": {
            "_view_name": "HBoxView",
            "_dom_classes": [],
            "_model_name": "HBoxModel",
            "_view_module": "@jupyter-widgets/controls",
            "_model_module_version": "1.5.0",
            "_view_count": null,
            "_view_module_version": "1.5.0",
            "box_style": "",
            "layout": "IPY_MODEL_84bc9583c7304e18a718378b8fb798e2",
            "_model_module": "@jupyter-widgets/controls",
            "children": [
              "IPY_MODEL_0994ce478486453ca74c354666223018",
              "IPY_MODEL_faf7029ea51a4ede8caebd6ba72aacf6"
            ]
          }
        },
        "84bc9583c7304e18a718378b8fb798e2": {
          "model_module": "@jupyter-widgets/base",
          "model_name": "LayoutModel",
          "state": {
            "_view_name": "LayoutView",
            "grid_template_rows": null,
            "right": null,
            "justify_content": null,
            "_view_module": "@jupyter-widgets/base",
            "overflow": null,
            "_model_module_version": "1.2.0",
            "_view_count": null,
            "flex_flow": null,
            "width": null,
            "min_width": null,
            "border": null,
            "align_items": null,
            "bottom": null,
            "_model_module": "@jupyter-widgets/base",
            "top": null,
            "grid_column": null,
            "overflow_y": null,
            "overflow_x": null,
            "grid_auto_flow": null,
            "grid_area": null,
            "grid_template_columns": null,
            "flex": null,
            "_model_name": "LayoutModel",
            "justify_items": null,
            "grid_row": null,
            "max_height": null,
            "align_content": null,
            "visibility": null,
            "align_self": null,
            "height": null,
            "min_height": null,
            "padding": null,
            "grid_auto_rows": null,
            "grid_gap": null,
            "max_width": null,
            "order": null,
            "_view_module_version": "1.2.0",
            "grid_template_areas": null,
            "object_position": null,
            "object_fit": null,
            "grid_auto_columns": null,
            "margin": null,
            "display": null,
            "left": null
          }
        },
        "0994ce478486453ca74c354666223018": {
          "model_module": "@jupyter-widgets/controls",
          "model_name": "FloatProgressModel",
          "state": {
            "_view_name": "ProgressView",
            "style": "IPY_MODEL_19eaf3b256d6492ca856a06ace10177f",
            "_dom_classes": [],
            "description": "Downloading: 100%",
            "_model_name": "FloatProgressModel",
            "bar_style": "success",
            "max": 1208,
            "_view_module": "@jupyter-widgets/controls",
            "_model_module_version": "1.5.0",
            "value": 1208,
            "_view_count": null,
            "_view_module_version": "1.5.0",
            "orientation": "horizontal",
            "min": 0,
            "description_tooltip": null,
            "_model_module": "@jupyter-widgets/controls",
            "layout": "IPY_MODEL_806816635cfe4b659887ef74a83dad51"
          }
        },
        "faf7029ea51a4ede8caebd6ba72aacf6": {
          "model_module": "@jupyter-widgets/controls",
          "model_name": "HTMLModel",
          "state": {
            "_view_name": "HTMLView",
            "style": "IPY_MODEL_452375c6a543429495bb2068788d2e8f",
            "_dom_classes": [],
            "description": "",
            "_model_name": "HTMLModel",
            "placeholder": "​",
            "_view_module": "@jupyter-widgets/controls",
            "_model_module_version": "1.5.0",
            "value": " 1.21k/1.21k [00:00&lt;00:00, 13.4kB/s]",
            "_view_count": null,
            "_view_module_version": "1.5.0",
            "description_tooltip": null,
            "_model_module": "@jupyter-widgets/controls",
            "layout": "IPY_MODEL_6b57137a74c74213a22335f33203fd6c"
          }
        },
        "19eaf3b256d6492ca856a06ace10177f": {
          "model_module": "@jupyter-widgets/controls",
          "model_name": "ProgressStyleModel",
          "state": {
            "_view_name": "StyleView",
            "_model_name": "ProgressStyleModel",
            "description_width": "initial",
            "_view_module": "@jupyter-widgets/base",
            "_model_module_version": "1.5.0",
            "_view_count": null,
            "_view_module_version": "1.2.0",
            "bar_color": null,
            "_model_module": "@jupyter-widgets/controls"
          }
        },
        "806816635cfe4b659887ef74a83dad51": {
          "model_module": "@jupyter-widgets/base",
          "model_name": "LayoutModel",
          "state": {
            "_view_name": "LayoutView",
            "grid_template_rows": null,
            "right": null,
            "justify_content": null,
            "_view_module": "@jupyter-widgets/base",
            "overflow": null,
            "_model_module_version": "1.2.0",
            "_view_count": null,
            "flex_flow": null,
            "width": null,
            "min_width": null,
            "border": null,
            "align_items": null,
            "bottom": null,
            "_model_module": "@jupyter-widgets/base",
            "top": null,
            "grid_column": null,
            "overflow_y": null,
            "overflow_x": null,
            "grid_auto_flow": null,
            "grid_area": null,
            "grid_template_columns": null,
            "flex": null,
            "_model_name": "LayoutModel",
            "justify_items": null,
            "grid_row": null,
            "max_height": null,
            "align_content": null,
            "visibility": null,
            "align_self": null,
            "height": null,
            "min_height": null,
            "padding": null,
            "grid_auto_rows": null,
            "grid_gap": null,
            "max_width": null,
            "order": null,
            "_view_module_version": "1.2.0",
            "grid_template_areas": null,
            "object_position": null,
            "object_fit": null,
            "grid_auto_columns": null,
            "margin": null,
            "display": null,
            "left": null
          }
        },
        "452375c6a543429495bb2068788d2e8f": {
          "model_module": "@jupyter-widgets/controls",
          "model_name": "DescriptionStyleModel",
          "state": {
            "_view_name": "StyleView",
            "_model_name": "DescriptionStyleModel",
            "description_width": "",
            "_view_module": "@jupyter-widgets/base",
            "_model_module_version": "1.5.0",
            "_view_count": null,
            "_view_module_version": "1.2.0",
            "_model_module": "@jupyter-widgets/controls"
          }
        },
        "6b57137a74c74213a22335f33203fd6c": {
          "model_module": "@jupyter-widgets/base",
          "model_name": "LayoutModel",
          "state": {
            "_view_name": "LayoutView",
            "grid_template_rows": null,
            "right": null,
            "justify_content": null,
            "_view_module": "@jupyter-widgets/base",
            "overflow": null,
            "_model_module_version": "1.2.0",
            "_view_count": null,
            "flex_flow": null,
            "width": null,
            "min_width": null,
            "border": null,
            "align_items": null,
            "bottom": null,
            "_model_module": "@jupyter-widgets/base",
            "top": null,
            "grid_column": null,
            "overflow_y": null,
            "overflow_x": null,
            "grid_auto_flow": null,
            "grid_area": null,
            "grid_template_columns": null,
            "flex": null,
            "_model_name": "LayoutModel",
            "justify_items": null,
            "grid_row": null,
            "max_height": null,
            "align_content": null,
            "visibility": null,
            "align_self": null,
            "height": null,
            "min_height": null,
            "padding": null,
            "grid_auto_rows": null,
            "grid_gap": null,
            "max_width": null,
            "order": null,
            "_view_module_version": "1.2.0",
            "grid_template_areas": null,
            "object_position": null,
            "object_fit": null,
            "grid_auto_columns": null,
            "margin": null,
            "display": null,
            "left": null
          }
        },
        "f63ee6ecf41d467187a20c0fd4051ed5": {
          "model_module": "@jupyter-widgets/controls",
          "model_name": "HBoxModel",
          "state": {
            "_view_name": "HBoxView",
            "_dom_classes": [],
            "_model_name": "HBoxModel",
            "_view_module": "@jupyter-widgets/controls",
            "_model_module_version": "1.5.0",
            "_view_count": null,
            "_view_module_version": "1.5.0",
            "box_style": "",
            "layout": "IPY_MODEL_8f42b7be5958446b8b34695529c7dea3",
            "_model_module": "@jupyter-widgets/controls",
            "children": [
              "IPY_MODEL_a13163a87af749f7a25328115e75f8ee",
              "IPY_MODEL_729129a3672049f898af3cf2053a12e6"
            ]
          }
        },
        "8f42b7be5958446b8b34695529c7dea3": {
          "model_module": "@jupyter-widgets/base",
          "model_name": "LayoutModel",
          "state": {
            "_view_name": "LayoutView",
            "grid_template_rows": null,
            "right": null,
            "justify_content": null,
            "_view_module": "@jupyter-widgets/base",
            "overflow": null,
            "_model_module_version": "1.2.0",
            "_view_count": null,
            "flex_flow": null,
            "width": null,
            "min_width": null,
            "border": null,
            "align_items": null,
            "bottom": null,
            "_model_module": "@jupyter-widgets/base",
            "top": null,
            "grid_column": null,
            "overflow_y": null,
            "overflow_x": null,
            "grid_auto_flow": null,
            "grid_area": null,
            "grid_template_columns": null,
            "flex": null,
            "_model_name": "LayoutModel",
            "justify_items": null,
            "grid_row": null,
            "max_height": null,
            "align_content": null,
            "visibility": null,
            "align_self": null,
            "height": null,
            "min_height": null,
            "padding": null,
            "grid_auto_rows": null,
            "grid_gap": null,
            "max_width": null,
            "order": null,
            "_view_module_version": "1.2.0",
            "grid_template_areas": null,
            "object_position": null,
            "object_fit": null,
            "grid_auto_columns": null,
            "margin": null,
            "display": null,
            "left": null
          }
        },
        "a13163a87af749f7a25328115e75f8ee": {
          "model_module": "@jupyter-widgets/controls",
          "model_name": "FloatProgressModel",
          "state": {
            "_view_name": "ProgressView",
            "style": "IPY_MODEL_d40d4b6bf44d4fb7968b3fc859b6b53e",
            "_dom_classes": [],
            "description": "Downloading: 100%",
            "_model_name": "FloatProgressModel",
            "bar_style": "success",
            "max": 791656,
            "_view_module": "@jupyter-widgets/controls",
            "_model_module_version": "1.5.0",
            "value": 791656,
            "_view_count": null,
            "_view_module_version": "1.5.0",
            "orientation": "horizontal",
            "min": 0,
            "description_tooltip": null,
            "_model_module": "@jupyter-widgets/controls",
            "layout": "IPY_MODEL_733f8b104a1c43719dd7e1926c34f523"
          }
        },
        "729129a3672049f898af3cf2053a12e6": {
          "model_module": "@jupyter-widgets/controls",
          "model_name": "HTMLModel",
          "state": {
            "_view_name": "HTMLView",
            "style": "IPY_MODEL_f00d7d41bbed433588de5a40a8db81e3",
            "_dom_classes": [],
            "description": "",
            "_model_name": "HTMLModel",
            "placeholder": "​",
            "_view_module": "@jupyter-widgets/controls",
            "_model_module_version": "1.5.0",
            "value": " 792k/792k [00:00&lt;00:00, 2.27MB/s]",
            "_view_count": null,
            "_view_module_version": "1.5.0",
            "description_tooltip": null,
            "_model_module": "@jupyter-widgets/controls",
            "layout": "IPY_MODEL_251e231ced6b4bb8866c7aa5c8a5dacb"
          }
        },
        "d40d4b6bf44d4fb7968b3fc859b6b53e": {
          "model_module": "@jupyter-widgets/controls",
          "model_name": "ProgressStyleModel",
          "state": {
            "_view_name": "StyleView",
            "_model_name": "ProgressStyleModel",
            "description_width": "initial",
            "_view_module": "@jupyter-widgets/base",
            "_model_module_version": "1.5.0",
            "_view_count": null,
            "_view_module_version": "1.2.0",
            "bar_color": null,
            "_model_module": "@jupyter-widgets/controls"
          }
        },
        "733f8b104a1c43719dd7e1926c34f523": {
          "model_module": "@jupyter-widgets/base",
          "model_name": "LayoutModel",
          "state": {
            "_view_name": "LayoutView",
            "grid_template_rows": null,
            "right": null,
            "justify_content": null,
            "_view_module": "@jupyter-widgets/base",
            "overflow": null,
            "_model_module_version": "1.2.0",
            "_view_count": null,
            "flex_flow": null,
            "width": null,
            "min_width": null,
            "border": null,
            "align_items": null,
            "bottom": null,
            "_model_module": "@jupyter-widgets/base",
            "top": null,
            "grid_column": null,
            "overflow_y": null,
            "overflow_x": null,
            "grid_auto_flow": null,
            "grid_area": null,
            "grid_template_columns": null,
            "flex": null,
            "_model_name": "LayoutModel",
            "justify_items": null,
            "grid_row": null,
            "max_height": null,
            "align_content": null,
            "visibility": null,
            "align_self": null,
            "height": null,
            "min_height": null,
            "padding": null,
            "grid_auto_rows": null,
            "grid_gap": null,
            "max_width": null,
            "order": null,
            "_view_module_version": "1.2.0",
            "grid_template_areas": null,
            "object_position": null,
            "object_fit": null,
            "grid_auto_columns": null,
            "margin": null,
            "display": null,
            "left": null
          }
        },
        "f00d7d41bbed433588de5a40a8db81e3": {
          "model_module": "@jupyter-widgets/controls",
          "model_name": "DescriptionStyleModel",
          "state": {
            "_view_name": "StyleView",
            "_model_name": "DescriptionStyleModel",
            "description_width": "",
            "_view_module": "@jupyter-widgets/base",
            "_model_module_version": "1.5.0",
            "_view_count": null,
            "_view_module_version": "1.2.0",
            "_model_module": "@jupyter-widgets/controls"
          }
        },
        "251e231ced6b4bb8866c7aa5c8a5dacb": {
          "model_module": "@jupyter-widgets/base",
          "model_name": "LayoutModel",
          "state": {
            "_view_name": "LayoutView",
            "grid_template_rows": null,
            "right": null,
            "justify_content": null,
            "_view_module": "@jupyter-widgets/base",
            "overflow": null,
            "_model_module_version": "1.2.0",
            "_view_count": null,
            "flex_flow": null,
            "width": null,
            "min_width": null,
            "border": null,
            "align_items": null,
            "bottom": null,
            "_model_module": "@jupyter-widgets/base",
            "top": null,
            "grid_column": null,
            "overflow_y": null,
            "overflow_x": null,
            "grid_auto_flow": null,
            "grid_area": null,
            "grid_template_columns": null,
            "flex": null,
            "_model_name": "LayoutModel",
            "justify_items": null,
            "grid_row": null,
            "max_height": null,
            "align_content": null,
            "visibility": null,
            "align_self": null,
            "height": null,
            "min_height": null,
            "padding": null,
            "grid_auto_rows": null,
            "grid_gap": null,
            "max_width": null,
            "order": null,
            "_view_module_version": "1.2.0",
            "grid_template_areas": null,
            "object_position": null,
            "object_fit": null,
            "grid_auto_columns": null,
            "margin": null,
            "display": null,
            "left": null
          }
        },
        "22a7913553834ca0bfe906686071b1f1": {
          "model_module": "@jupyter-widgets/controls",
          "model_name": "HBoxModel",
          "state": {
            "_view_name": "HBoxView",
            "_dom_classes": [],
            "_model_name": "HBoxModel",
            "_view_module": "@jupyter-widgets/controls",
            "_model_module_version": "1.5.0",
            "_view_count": null,
            "_view_module_version": "1.5.0",
            "box_style": "",
            "layout": "IPY_MODEL_442621b10656443fb14516942ea76ac3",
            "_model_module": "@jupyter-widgets/controls",
            "children": [
              "IPY_MODEL_635f91b1f2d04ea881d3e3aab5bf2d8d",
              "IPY_MODEL_0bffcc2e8c5c4ab981204317a5fad07d"
            ]
          }
        },
        "442621b10656443fb14516942ea76ac3": {
          "model_module": "@jupyter-widgets/base",
          "model_name": "LayoutModel",
          "state": {
            "_view_name": "LayoutView",
            "grid_template_rows": null,
            "right": null,
            "justify_content": null,
            "_view_module": "@jupyter-widgets/base",
            "overflow": null,
            "_model_module_version": "1.2.0",
            "_view_count": null,
            "flex_flow": null,
            "width": null,
            "min_width": null,
            "border": null,
            "align_items": null,
            "bottom": null,
            "_model_module": "@jupyter-widgets/base",
            "top": null,
            "grid_column": null,
            "overflow_y": null,
            "overflow_x": null,
            "grid_auto_flow": null,
            "grid_area": null,
            "grid_template_columns": null,
            "flex": null,
            "_model_name": "LayoutModel",
            "justify_items": null,
            "grid_row": null,
            "max_height": null,
            "align_content": null,
            "visibility": null,
            "align_self": null,
            "height": null,
            "min_height": null,
            "padding": null,
            "grid_auto_rows": null,
            "grid_gap": null,
            "max_width": null,
            "order": null,
            "_view_module_version": "1.2.0",
            "grid_template_areas": null,
            "object_position": null,
            "object_fit": null,
            "grid_auto_columns": null,
            "margin": null,
            "display": null,
            "left": null
          }
        },
        "635f91b1f2d04ea881d3e3aab5bf2d8d": {
          "model_module": "@jupyter-widgets/controls",
          "model_name": "FloatProgressModel",
          "state": {
            "_view_name": "ProgressView",
            "style": "IPY_MODEL_43205756eac34c46b47bd41ddc8a20cb",
            "_dom_classes": [],
            "description": "Downloading: 100%",
            "_model_name": "FloatProgressModel",
            "bar_style": "success",
            "max": 1786,
            "_view_module": "@jupyter-widgets/controls",
            "_model_module_version": "1.5.0",
            "value": 1786,
            "_view_count": null,
            "_view_module_version": "1.5.0",
            "orientation": "horizontal",
            "min": 0,
            "description_tooltip": null,
            "_model_module": "@jupyter-widgets/controls",
            "layout": "IPY_MODEL_20ec5dc049264ce3b5f509a6b6b8d5cc"
          }
        },
        "0bffcc2e8c5c4ab981204317a5fad07d": {
          "model_module": "@jupyter-widgets/controls",
          "model_name": "HTMLModel",
          "state": {
            "_view_name": "HTMLView",
            "style": "IPY_MODEL_a15c493d28cf45808906dfa199444d6d",
            "_dom_classes": [],
            "description": "",
            "_model_name": "HTMLModel",
            "placeholder": "​",
            "_view_module": "@jupyter-widgets/controls",
            "_model_module_version": "1.5.0",
            "value": " 1.79k/1.79k [00:00&lt;00:00, 18.5kB/s]",
            "_view_count": null,
            "_view_module_version": "1.5.0",
            "description_tooltip": null,
            "_model_module": "@jupyter-widgets/controls",
            "layout": "IPY_MODEL_2c3b8375dadc420aa54d07835cc43473"
          }
        },
        "43205756eac34c46b47bd41ddc8a20cb": {
          "model_module": "@jupyter-widgets/controls",
          "model_name": "ProgressStyleModel",
          "state": {
            "_view_name": "StyleView",
            "_model_name": "ProgressStyleModel",
            "description_width": "initial",
            "_view_module": "@jupyter-widgets/base",
            "_model_module_version": "1.5.0",
            "_view_count": null,
            "_view_module_version": "1.2.0",
            "bar_color": null,
            "_model_module": "@jupyter-widgets/controls"
          }
        },
        "20ec5dc049264ce3b5f509a6b6b8d5cc": {
          "model_module": "@jupyter-widgets/base",
          "model_name": "LayoutModel",
          "state": {
            "_view_name": "LayoutView",
            "grid_template_rows": null,
            "right": null,
            "justify_content": null,
            "_view_module": "@jupyter-widgets/base",
            "overflow": null,
            "_model_module_version": "1.2.0",
            "_view_count": null,
            "flex_flow": null,
            "width": null,
            "min_width": null,
            "border": null,
            "align_items": null,
            "bottom": null,
            "_model_module": "@jupyter-widgets/base",
            "top": null,
            "grid_column": null,
            "overflow_y": null,
            "overflow_x": null,
            "grid_auto_flow": null,
            "grid_area": null,
            "grid_template_columns": null,
            "flex": null,
            "_model_name": "LayoutModel",
            "justify_items": null,
            "grid_row": null,
            "max_height": null,
            "align_content": null,
            "visibility": null,
            "align_self": null,
            "height": null,
            "min_height": null,
            "padding": null,
            "grid_auto_rows": null,
            "grid_gap": null,
            "max_width": null,
            "order": null,
            "_view_module_version": "1.2.0",
            "grid_template_areas": null,
            "object_position": null,
            "object_fit": null,
            "grid_auto_columns": null,
            "margin": null,
            "display": null,
            "left": null
          }
        },
        "a15c493d28cf45808906dfa199444d6d": {
          "model_module": "@jupyter-widgets/controls",
          "model_name": "DescriptionStyleModel",
          "state": {
            "_view_name": "StyleView",
            "_model_name": "DescriptionStyleModel",
            "description_width": "",
            "_view_module": "@jupyter-widgets/base",
            "_model_module_version": "1.5.0",
            "_view_count": null,
            "_view_module_version": "1.2.0",
            "_model_module": "@jupyter-widgets/controls"
          }
        },
        "2c3b8375dadc420aa54d07835cc43473": {
          "model_module": "@jupyter-widgets/base",
          "model_name": "LayoutModel",
          "state": {
            "_view_name": "LayoutView",
            "grid_template_rows": null,
            "right": null,
            "justify_content": null,
            "_view_module": "@jupyter-widgets/base",
            "overflow": null,
            "_model_module_version": "1.2.0",
            "_view_count": null,
            "flex_flow": null,
            "width": null,
            "min_width": null,
            "border": null,
            "align_items": null,
            "bottom": null,
            "_model_module": "@jupyter-widgets/base",
            "top": null,
            "grid_column": null,
            "overflow_y": null,
            "overflow_x": null,
            "grid_auto_flow": null,
            "grid_area": null,
            "grid_template_columns": null,
            "flex": null,
            "_model_name": "LayoutModel",
            "justify_items": null,
            "grid_row": null,
            "max_height": null,
            "align_content": null,
            "visibility": null,
            "align_self": null,
            "height": null,
            "min_height": null,
            "padding": null,
            "grid_auto_rows": null,
            "grid_gap": null,
            "max_width": null,
            "order": null,
            "_view_module_version": "1.2.0",
            "grid_template_areas": null,
            "object_position": null,
            "object_fit": null,
            "grid_auto_columns": null,
            "margin": null,
            "display": null,
            "left": null
          }
        },
        "963f4aafc1ab4e0ca5d7518d86e2c0ce": {
          "model_module": "@jupyter-widgets/controls",
          "model_name": "HBoxModel",
          "state": {
            "_view_name": "HBoxView",
            "_dom_classes": [],
            "_model_name": "HBoxModel",
            "_view_module": "@jupyter-widgets/controls",
            "_model_module_version": "1.5.0",
            "_view_count": null,
            "_view_module_version": "1.5.0",
            "box_style": "",
            "layout": "IPY_MODEL_c1af7a7072a04aa2bce6546dc9b6a2f8",
            "_model_module": "@jupyter-widgets/controls",
            "children": [
              "IPY_MODEL_057e5c74dd4b439f9c6b1fbc4be1d647",
              "IPY_MODEL_2964d792da334552bd682f77d0375604"
            ]
          }
        },
        "c1af7a7072a04aa2bce6546dc9b6a2f8": {
          "model_module": "@jupyter-widgets/base",
          "model_name": "LayoutModel",
          "state": {
            "_view_name": "LayoutView",
            "grid_template_rows": null,
            "right": null,
            "justify_content": null,
            "_view_module": "@jupyter-widgets/base",
            "overflow": null,
            "_model_module_version": "1.2.0",
            "_view_count": null,
            "flex_flow": null,
            "width": null,
            "min_width": null,
            "border": null,
            "align_items": null,
            "bottom": null,
            "_model_module": "@jupyter-widgets/base",
            "top": null,
            "grid_column": null,
            "overflow_y": null,
            "overflow_x": null,
            "grid_auto_flow": null,
            "grid_area": null,
            "grid_template_columns": null,
            "flex": null,
            "_model_name": "LayoutModel",
            "justify_items": null,
            "grid_row": null,
            "max_height": null,
            "align_content": null,
            "visibility": null,
            "align_self": null,
            "height": null,
            "min_height": null,
            "padding": null,
            "grid_auto_rows": null,
            "grid_gap": null,
            "max_width": null,
            "order": null,
            "_view_module_version": "1.2.0",
            "grid_template_areas": null,
            "object_position": null,
            "object_fit": null,
            "grid_auto_columns": null,
            "margin": null,
            "display": null,
            "left": null
          }
        },
        "057e5c74dd4b439f9c6b1fbc4be1d647": {
          "model_module": "@jupyter-widgets/controls",
          "model_name": "FloatProgressModel",
          "state": {
            "_view_name": "ProgressView",
            "style": "IPY_MODEL_a4ef80c051a04e73b494062e189e6d21",
            "_dom_classes": [],
            "description": "Downloading: 100%",
            "_model_name": "FloatProgressModel",
            "bar_style": "success",
            "max": 25,
            "_view_module": "@jupyter-widgets/controls",
            "_model_module_version": "1.5.0",
            "value": 25,
            "_view_count": null,
            "_view_module_version": "1.5.0",
            "orientation": "horizontal",
            "min": 0,
            "description_tooltip": null,
            "_model_module": "@jupyter-widgets/controls",
            "layout": "IPY_MODEL_365ccf165d1b4df888d23530953fbe1a"
          }
        },
        "2964d792da334552bd682f77d0375604": {
          "model_module": "@jupyter-widgets/controls",
          "model_name": "HTMLModel",
          "state": {
            "_view_name": "HTMLView",
            "style": "IPY_MODEL_1fe6659681be4f31abf578d3e43fb61a",
            "_dom_classes": [],
            "description": "",
            "_model_name": "HTMLModel",
            "placeholder": "​",
            "_view_module": "@jupyter-widgets/controls",
            "_model_module_version": "1.5.0",
            "value": " 25.0/25.0 [00:00&lt;00:00, 203B/s]",
            "_view_count": null,
            "_view_module_version": "1.5.0",
            "description_tooltip": null,
            "_model_module": "@jupyter-widgets/controls",
            "layout": "IPY_MODEL_33908e9e00704368b0b062534c5d99b6"
          }
        },
        "a4ef80c051a04e73b494062e189e6d21": {
          "model_module": "@jupyter-widgets/controls",
          "model_name": "ProgressStyleModel",
          "state": {
            "_view_name": "StyleView",
            "_model_name": "ProgressStyleModel",
            "description_width": "initial",
            "_view_module": "@jupyter-widgets/base",
            "_model_module_version": "1.5.0",
            "_view_count": null,
            "_view_module_version": "1.2.0",
            "bar_color": null,
            "_model_module": "@jupyter-widgets/controls"
          }
        },
        "365ccf165d1b4df888d23530953fbe1a": {
          "model_module": "@jupyter-widgets/base",
          "model_name": "LayoutModel",
          "state": {
            "_view_name": "LayoutView",
            "grid_template_rows": null,
            "right": null,
            "justify_content": null,
            "_view_module": "@jupyter-widgets/base",
            "overflow": null,
            "_model_module_version": "1.2.0",
            "_view_count": null,
            "flex_flow": null,
            "width": null,
            "min_width": null,
            "border": null,
            "align_items": null,
            "bottom": null,
            "_model_module": "@jupyter-widgets/base",
            "top": null,
            "grid_column": null,
            "overflow_y": null,
            "overflow_x": null,
            "grid_auto_flow": null,
            "grid_area": null,
            "grid_template_columns": null,
            "flex": null,
            "_model_name": "LayoutModel",
            "justify_items": null,
            "grid_row": null,
            "max_height": null,
            "align_content": null,
            "visibility": null,
            "align_self": null,
            "height": null,
            "min_height": null,
            "padding": null,
            "grid_auto_rows": null,
            "grid_gap": null,
            "max_width": null,
            "order": null,
            "_view_module_version": "1.2.0",
            "grid_template_areas": null,
            "object_position": null,
            "object_fit": null,
            "grid_auto_columns": null,
            "margin": null,
            "display": null,
            "left": null
          }
        },
        "1fe6659681be4f31abf578d3e43fb61a": {
          "model_module": "@jupyter-widgets/controls",
          "model_name": "DescriptionStyleModel",
          "state": {
            "_view_name": "StyleView",
            "_model_name": "DescriptionStyleModel",
            "description_width": "",
            "_view_module": "@jupyter-widgets/base",
            "_model_module_version": "1.5.0",
            "_view_count": null,
            "_view_module_version": "1.2.0",
            "_model_module": "@jupyter-widgets/controls"
          }
        },
        "33908e9e00704368b0b062534c5d99b6": {
          "model_module": "@jupyter-widgets/base",
          "model_name": "LayoutModel",
          "state": {
            "_view_name": "LayoutView",
            "grid_template_rows": null,
            "right": null,
            "justify_content": null,
            "_view_module": "@jupyter-widgets/base",
            "overflow": null,
            "_model_module_version": "1.2.0",
            "_view_count": null,
            "flex_flow": null,
            "width": null,
            "min_width": null,
            "border": null,
            "align_items": null,
            "bottom": null,
            "_model_module": "@jupyter-widgets/base",
            "top": null,
            "grid_column": null,
            "overflow_y": null,
            "overflow_x": null,
            "grid_auto_flow": null,
            "grid_area": null,
            "grid_template_columns": null,
            "flex": null,
            "_model_name": "LayoutModel",
            "justify_items": null,
            "grid_row": null,
            "max_height": null,
            "align_content": null,
            "visibility": null,
            "align_self": null,
            "height": null,
            "min_height": null,
            "padding": null,
            "grid_auto_rows": null,
            "grid_gap": null,
            "max_width": null,
            "order": null,
            "_view_module_version": "1.2.0",
            "grid_template_areas": null,
            "object_position": null,
            "object_fit": null,
            "grid_auto_columns": null,
            "margin": null,
            "display": null,
            "left": null
          }
        },
        "a729b218d7814921bb134d2ae4e33be6": {
          "model_module": "@jupyter-widgets/controls",
          "model_name": "HBoxModel",
          "state": {
            "_view_name": "HBoxView",
            "_dom_classes": [],
            "_model_name": "HBoxModel",
            "_view_module": "@jupyter-widgets/controls",
            "_model_module_version": "1.5.0",
            "_view_count": null,
            "_view_module_version": "1.5.0",
            "box_style": "",
            "layout": "IPY_MODEL_6892b72829a84f2ba8021574d30c6a8f",
            "_model_module": "@jupyter-widgets/controls",
            "children": [
              "IPY_MODEL_48b3492c055f463c88e5ec35887fee9e",
              "IPY_MODEL_8996f271153d41dfa704654522374c55"
            ]
          }
        },
        "6892b72829a84f2ba8021574d30c6a8f": {
          "model_module": "@jupyter-widgets/base",
          "model_name": "LayoutModel",
          "state": {
            "_view_name": "LayoutView",
            "grid_template_rows": null,
            "right": null,
            "justify_content": null,
            "_view_module": "@jupyter-widgets/base",
            "overflow": null,
            "_model_module_version": "1.2.0",
            "_view_count": null,
            "flex_flow": null,
            "width": null,
            "min_width": null,
            "border": null,
            "align_items": null,
            "bottom": null,
            "_model_module": "@jupyter-widgets/base",
            "top": null,
            "grid_column": null,
            "overflow_y": null,
            "overflow_x": null,
            "grid_auto_flow": null,
            "grid_area": null,
            "grid_template_columns": null,
            "flex": null,
            "_model_name": "LayoutModel",
            "justify_items": null,
            "grid_row": null,
            "max_height": null,
            "align_content": null,
            "visibility": null,
            "align_self": null,
            "height": null,
            "min_height": null,
            "padding": null,
            "grid_auto_rows": null,
            "grid_gap": null,
            "max_width": null,
            "order": null,
            "_view_module_version": "1.2.0",
            "grid_template_areas": null,
            "object_position": null,
            "object_fit": null,
            "grid_auto_columns": null,
            "margin": null,
            "display": null,
            "left": null
          }
        },
        "48b3492c055f463c88e5ec35887fee9e": {
          "model_module": "@jupyter-widgets/controls",
          "model_name": "FloatProgressModel",
          "state": {
            "_view_name": "ProgressView",
            "style": "IPY_MODEL_00dd5745909949459664f9da729ca4fe",
            "_dom_classes": [],
            "description": "Downloading: 100%",
            "_model_name": "FloatProgressModel",
            "bar_style": "success",
            "max": 891692894,
            "_view_module": "@jupyter-widgets/controls",
            "_model_module_version": "1.5.0",
            "value": 891692894,
            "_view_count": null,
            "_view_module_version": "1.5.0",
            "orientation": "horizontal",
            "min": 0,
            "description_tooltip": null,
            "_model_module": "@jupyter-widgets/controls",
            "layout": "IPY_MODEL_0c74f01a89374f4ba58741f17757ef54"
          }
        },
        "8996f271153d41dfa704654522374c55": {
          "model_module": "@jupyter-widgets/controls",
          "model_name": "HTMLModel",
          "state": {
            "_view_name": "HTMLView",
            "style": "IPY_MODEL_36c9046f0de443a290c581ed1d209682",
            "_dom_classes": [],
            "description": "",
            "_model_name": "HTMLModel",
            "placeholder": "​",
            "_view_module": "@jupyter-widgets/controls",
            "_model_module_version": "1.5.0",
            "value": " 892M/892M [00:17&lt;00:00, 49.9MB/s]",
            "_view_count": null,
            "_view_module_version": "1.5.0",
            "description_tooltip": null,
            "_model_module": "@jupyter-widgets/controls",
            "layout": "IPY_MODEL_4dffe037912943688fe0046cf7643994"
          }
        },
        "00dd5745909949459664f9da729ca4fe": {
          "model_module": "@jupyter-widgets/controls",
          "model_name": "ProgressStyleModel",
          "state": {
            "_view_name": "StyleView",
            "_model_name": "ProgressStyleModel",
            "description_width": "initial",
            "_view_module": "@jupyter-widgets/base",
            "_model_module_version": "1.5.0",
            "_view_count": null,
            "_view_module_version": "1.2.0",
            "bar_color": null,
            "_model_module": "@jupyter-widgets/controls"
          }
        },
        "0c74f01a89374f4ba58741f17757ef54": {
          "model_module": "@jupyter-widgets/base",
          "model_name": "LayoutModel",
          "state": {
            "_view_name": "LayoutView",
            "grid_template_rows": null,
            "right": null,
            "justify_content": null,
            "_view_module": "@jupyter-widgets/base",
            "overflow": null,
            "_model_module_version": "1.2.0",
            "_view_count": null,
            "flex_flow": null,
            "width": null,
            "min_width": null,
            "border": null,
            "align_items": null,
            "bottom": null,
            "_model_module": "@jupyter-widgets/base",
            "top": null,
            "grid_column": null,
            "overflow_y": null,
            "overflow_x": null,
            "grid_auto_flow": null,
            "grid_area": null,
            "grid_template_columns": null,
            "flex": null,
            "_model_name": "LayoutModel",
            "justify_items": null,
            "grid_row": null,
            "max_height": null,
            "align_content": null,
            "visibility": null,
            "align_self": null,
            "height": null,
            "min_height": null,
            "padding": null,
            "grid_auto_rows": null,
            "grid_gap": null,
            "max_width": null,
            "order": null,
            "_view_module_version": "1.2.0",
            "grid_template_areas": null,
            "object_position": null,
            "object_fit": null,
            "grid_auto_columns": null,
            "margin": null,
            "display": null,
            "left": null
          }
        },
        "36c9046f0de443a290c581ed1d209682": {
          "model_module": "@jupyter-widgets/controls",
          "model_name": "DescriptionStyleModel",
          "state": {
            "_view_name": "StyleView",
            "_model_name": "DescriptionStyleModel",
            "description_width": "",
            "_view_module": "@jupyter-widgets/base",
            "_model_module_version": "1.5.0",
            "_view_count": null,
            "_view_module_version": "1.2.0",
            "_model_module": "@jupyter-widgets/controls"
          }
        },
        "4dffe037912943688fe0046cf7643994": {
          "model_module": "@jupyter-widgets/base",
          "model_name": "LayoutModel",
          "state": {
            "_view_name": "LayoutView",
            "grid_template_rows": null,
            "right": null,
            "justify_content": null,
            "_view_module": "@jupyter-widgets/base",
            "overflow": null,
            "_model_module_version": "1.2.0",
            "_view_count": null,
            "flex_flow": null,
            "width": null,
            "min_width": null,
            "border": null,
            "align_items": null,
            "bottom": null,
            "_model_module": "@jupyter-widgets/base",
            "top": null,
            "grid_column": null,
            "overflow_y": null,
            "overflow_x": null,
            "grid_auto_flow": null,
            "grid_area": null,
            "grid_template_columns": null,
            "flex": null,
            "_model_name": "LayoutModel",
            "justify_items": null,
            "grid_row": null,
            "max_height": null,
            "align_content": null,
            "visibility": null,
            "align_self": null,
            "height": null,
            "min_height": null,
            "padding": null,
            "grid_auto_rows": null,
            "grid_gap": null,
            "max_width": null,
            "order": null,
            "_view_module_version": "1.2.0",
            "grid_template_areas": null,
            "object_position": null,
            "object_fit": null,
            "grid_auto_columns": null,
            "margin": null,
            "display": null,
            "left": null
          }
        }
      }
    }
  },
  "cells": [
    {
      "cell_type": "markdown",
      "metadata": {
        "id": "view-in-github",
        "colab_type": "text"
      },
      "source": [
        "<a href=\"https://colab.research.google.com/github/hansikav/Decision-tree-and-random-forest/blob/main/EmotionDetection.ipynb\" target=\"_parent\"><img src=\"https://colab.research.google.com/assets/colab-badge.svg\" alt=\"Open In Colab\"/></a>"
      ]
    },
    {
      "cell_type": "code",
      "metadata": {
        "colab": {
          "base_uri": "https://localhost:8080/"
        },
        "id": "yicJiALc12oS",
        "outputId": "8c564035-bf23-4522-ad42-ba1ec4ee528a"
      },
      "source": [
        "!pip install sentencepiece\n"
      ],
      "execution_count": 1,
      "outputs": [
        {
          "output_type": "stream",
          "text": [
            "Collecting sentencepiece\n",
            "\u001b[?25l  Downloading https://files.pythonhosted.org/packages/f5/99/e0808cb947ba10f575839c43e8fafc9cc44e4a7a2c8f79c60db48220a577/sentencepiece-0.1.95-cp37-cp37m-manylinux2014_x86_64.whl (1.2MB)\n",
            "\r\u001b[K     |▎                               | 10kB 24.0MB/s eta 0:00:01\r\u001b[K     |▌                               | 20kB 32.0MB/s eta 0:00:01\r\u001b[K     |▉                               | 30kB 21.8MB/s eta 0:00:01\r\u001b[K     |█                               | 40kB 25.2MB/s eta 0:00:01\r\u001b[K     |█▍                              | 51kB 26.4MB/s eta 0:00:01\r\u001b[K     |█▋                              | 61kB 29.1MB/s eta 0:00:01\r\u001b[K     |██                              | 71kB 19.3MB/s eta 0:00:01\r\u001b[K     |██▏                             | 81kB 20.7MB/s eta 0:00:01\r\u001b[K     |██▌                             | 92kB 18.9MB/s eta 0:00:01\r\u001b[K     |██▊                             | 102kB 19.0MB/s eta 0:00:01\r\u001b[K     |███                             | 112kB 19.0MB/s eta 0:00:01\r\u001b[K     |███▎                            | 122kB 19.0MB/s eta 0:00:01\r\u001b[K     |███▌                            | 133kB 19.0MB/s eta 0:00:01\r\u001b[K     |███▉                            | 143kB 19.0MB/s eta 0:00:01\r\u001b[K     |████                            | 153kB 19.0MB/s eta 0:00:01\r\u001b[K     |████▍                           | 163kB 19.0MB/s eta 0:00:01\r\u001b[K     |████▋                           | 174kB 19.0MB/s eta 0:00:01\r\u001b[K     |█████                           | 184kB 19.0MB/s eta 0:00:01\r\u001b[K     |█████▏                          | 194kB 19.0MB/s eta 0:00:01\r\u001b[K     |█████▌                          | 204kB 19.0MB/s eta 0:00:01\r\u001b[K     |█████▊                          | 215kB 19.0MB/s eta 0:00:01\r\u001b[K     |██████                          | 225kB 19.0MB/s eta 0:00:01\r\u001b[K     |██████▎                         | 235kB 19.0MB/s eta 0:00:01\r\u001b[K     |██████▌                         | 245kB 19.0MB/s eta 0:00:01\r\u001b[K     |██████▉                         | 256kB 19.0MB/s eta 0:00:01\r\u001b[K     |███████                         | 266kB 19.0MB/s eta 0:00:01\r\u001b[K     |███████▍                        | 276kB 19.0MB/s eta 0:00:01\r\u001b[K     |███████▋                        | 286kB 19.0MB/s eta 0:00:01\r\u001b[K     |████████                        | 296kB 19.0MB/s eta 0:00:01\r\u001b[K     |████████▏                       | 307kB 19.0MB/s eta 0:00:01\r\u001b[K     |████████▍                       | 317kB 19.0MB/s eta 0:00:01\r\u001b[K     |████████▊                       | 327kB 19.0MB/s eta 0:00:01\r\u001b[K     |█████████                       | 337kB 19.0MB/s eta 0:00:01\r\u001b[K     |█████████▎                      | 348kB 19.0MB/s eta 0:00:01\r\u001b[K     |█████████▌                      | 358kB 19.0MB/s eta 0:00:01\r\u001b[K     |█████████▉                      | 368kB 19.0MB/s eta 0:00:01\r\u001b[K     |██████████                      | 378kB 19.0MB/s eta 0:00:01\r\u001b[K     |██████████▍                     | 389kB 19.0MB/s eta 0:00:01\r\u001b[K     |██████████▋                     | 399kB 19.0MB/s eta 0:00:01\r\u001b[K     |███████████                     | 409kB 19.0MB/s eta 0:00:01\r\u001b[K     |███████████▏                    | 419kB 19.0MB/s eta 0:00:01\r\u001b[K     |███████████▍                    | 430kB 19.0MB/s eta 0:00:01\r\u001b[K     |███████████▊                    | 440kB 19.0MB/s eta 0:00:01\r\u001b[K     |████████████                    | 450kB 19.0MB/s eta 0:00:01\r\u001b[K     |████████████▎                   | 460kB 19.0MB/s eta 0:00:01\r\u001b[K     |████████████▌                   | 471kB 19.0MB/s eta 0:00:01\r\u001b[K     |████████████▉                   | 481kB 19.0MB/s eta 0:00:01\r\u001b[K     |█████████████                   | 491kB 19.0MB/s eta 0:00:01\r\u001b[K     |█████████████▍                  | 501kB 19.0MB/s eta 0:00:01\r\u001b[K     |█████████████▋                  | 512kB 19.0MB/s eta 0:00:01\r\u001b[K     |█████████████▉                  | 522kB 19.0MB/s eta 0:00:01\r\u001b[K     |██████████████▏                 | 532kB 19.0MB/s eta 0:00:01\r\u001b[K     |██████████████▍                 | 542kB 19.0MB/s eta 0:00:01\r\u001b[K     |██████████████▊                 | 552kB 19.0MB/s eta 0:00:01\r\u001b[K     |███████████████                 | 563kB 19.0MB/s eta 0:00:01\r\u001b[K     |███████████████▎                | 573kB 19.0MB/s eta 0:00:01\r\u001b[K     |███████████████▌                | 583kB 19.0MB/s eta 0:00:01\r\u001b[K     |███████████████▉                | 593kB 19.0MB/s eta 0:00:01\r\u001b[K     |████████████████                | 604kB 19.0MB/s eta 0:00:01\r\u001b[K     |████████████████▍               | 614kB 19.0MB/s eta 0:00:01\r\u001b[K     |████████████████▋               | 624kB 19.0MB/s eta 0:00:01\r\u001b[K     |████████████████▉               | 634kB 19.0MB/s eta 0:00:01\r\u001b[K     |█████████████████▏              | 645kB 19.0MB/s eta 0:00:01\r\u001b[K     |█████████████████▍              | 655kB 19.0MB/s eta 0:00:01\r\u001b[K     |█████████████████▊              | 665kB 19.0MB/s eta 0:00:01\r\u001b[K     |██████████████████              | 675kB 19.0MB/s eta 0:00:01\r\u001b[K     |██████████████████▎             | 686kB 19.0MB/s eta 0:00:01\r\u001b[K     |██████████████████▌             | 696kB 19.0MB/s eta 0:00:01\r\u001b[K     |██████████████████▉             | 706kB 19.0MB/s eta 0:00:01\r\u001b[K     |███████████████████             | 716kB 19.0MB/s eta 0:00:01\r\u001b[K     |███████████████████▎            | 727kB 19.0MB/s eta 0:00:01\r\u001b[K     |███████████████████▋            | 737kB 19.0MB/s eta 0:00:01\r\u001b[K     |███████████████████▉            | 747kB 19.0MB/s eta 0:00:01\r\u001b[K     |████████████████████▏           | 757kB 19.0MB/s eta 0:00:01\r\u001b[K     |████████████████████▍           | 768kB 19.0MB/s eta 0:00:01\r\u001b[K     |████████████████████▊           | 778kB 19.0MB/s eta 0:00:01\r\u001b[K     |█████████████████████           | 788kB 19.0MB/s eta 0:00:01\r\u001b[K     |█████████████████████▎          | 798kB 19.0MB/s eta 0:00:01\r\u001b[K     |█████████████████████▌          | 808kB 19.0MB/s eta 0:00:01\r\u001b[K     |█████████████████████▉          | 819kB 19.0MB/s eta 0:00:01\r\u001b[K     |██████████████████████          | 829kB 19.0MB/s eta 0:00:01\r\u001b[K     |██████████████████████▎         | 839kB 19.0MB/s eta 0:00:01\r\u001b[K     |██████████████████████▋         | 849kB 19.0MB/s eta 0:00:01\r\u001b[K     |██████████████████████▉         | 860kB 19.0MB/s eta 0:00:01\r\u001b[K     |███████████████████████▏        | 870kB 19.0MB/s eta 0:00:01\r\u001b[K     |███████████████████████▍        | 880kB 19.0MB/s eta 0:00:01\r\u001b[K     |███████████████████████▊        | 890kB 19.0MB/s eta 0:00:01\r\u001b[K     |████████████████████████        | 901kB 19.0MB/s eta 0:00:01\r\u001b[K     |████████████████████████▎       | 911kB 19.0MB/s eta 0:00:01\r\u001b[K     |████████████████████████▌       | 921kB 19.0MB/s eta 0:00:01\r\u001b[K     |████████████████████████▊       | 931kB 19.0MB/s eta 0:00:01\r\u001b[K     |█████████████████████████       | 942kB 19.0MB/s eta 0:00:01\r\u001b[K     |█████████████████████████▎      | 952kB 19.0MB/s eta 0:00:01\r\u001b[K     |█████████████████████████▋      | 962kB 19.0MB/s eta 0:00:01\r\u001b[K     |█████████████████████████▉      | 972kB 19.0MB/s eta 0:00:01\r\u001b[K     |██████████████████████████▏     | 983kB 19.0MB/s eta 0:00:01\r\u001b[K     |██████████████████████████▍     | 993kB 19.0MB/s eta 0:00:01\r\u001b[K     |██████████████████████████▊     | 1.0MB 19.0MB/s eta 0:00:01\r\u001b[K     |███████████████████████████     | 1.0MB 19.0MB/s eta 0:00:01\r\u001b[K     |███████████████████████████▎    | 1.0MB 19.0MB/s eta 0:00:01\r\u001b[K     |███████████████████████████▌    | 1.0MB 19.0MB/s eta 0:00:01\r\u001b[K     |███████████████████████████▊    | 1.0MB 19.0MB/s eta 0:00:01\r\u001b[K     |████████████████████████████    | 1.1MB 19.0MB/s eta 0:00:01\r\u001b[K     |████████████████████████████▎   | 1.1MB 19.0MB/s eta 0:00:01\r\u001b[K     |████████████████████████████▋   | 1.1MB 19.0MB/s eta 0:00:01\r\u001b[K     |████████████████████████████▉   | 1.1MB 19.0MB/s eta 0:00:01\r\u001b[K     |█████████████████████████████▏  | 1.1MB 19.0MB/s eta 0:00:01\r\u001b[K     |█████████████████████████████▍  | 1.1MB 19.0MB/s eta 0:00:01\r\u001b[K     |█████████████████████████████▊  | 1.1MB 19.0MB/s eta 0:00:01\r\u001b[K     |██████████████████████████████  | 1.1MB 19.0MB/s eta 0:00:01\r\u001b[K     |██████████████████████████████▏ | 1.1MB 19.0MB/s eta 0:00:01\r\u001b[K     |██████████████████████████████▌ | 1.1MB 19.0MB/s eta 0:00:01\r\u001b[K     |██████████████████████████████▊ | 1.2MB 19.0MB/s eta 0:00:01\r\u001b[K     |███████████████████████████████ | 1.2MB 19.0MB/s eta 0:00:01\r\u001b[K     |███████████████████████████████▎| 1.2MB 19.0MB/s eta 0:00:01\r\u001b[K     |███████████████████████████████▋| 1.2MB 19.0MB/s eta 0:00:01\r\u001b[K     |███████████████████████████████▉| 1.2MB 19.0MB/s eta 0:00:01\r\u001b[K     |████████████████████████████████| 1.2MB 19.0MB/s \n",
            "\u001b[?25hInstalling collected packages: sentencepiece\n",
            "Successfully installed sentencepiece-0.1.95\n"
          ],
          "name": "stdout"
        }
      ]
    },
    {
      "cell_type": "code",
      "metadata": {
        "colab": {
          "base_uri": "https://localhost:8080/"
        },
        "id": "FWQ-jSi0_ZVn",
        "outputId": "422d97c0-4633-4ade-9ee4-f7c2438ca493"
      },
      "source": [
        "pip install transformers[sentencepiece]"
      ],
      "execution_count": 2,
      "outputs": [
        {
          "output_type": "stream",
          "text": [
            "Collecting transformers[sentencepiece]\n",
            "\u001b[?25l  Downloading https://files.pythonhosted.org/packages/d8/b2/57495b5309f09fa501866e225c84532d1fd89536ea62406b2181933fb418/transformers-4.5.1-py3-none-any.whl (2.1MB)\n",
            "\u001b[K     |████████████████████████████████| 2.1MB 15.4MB/s \n",
            "\u001b[?25hCollecting tokenizers<0.11,>=0.10.1\n",
            "\u001b[?25l  Downloading https://files.pythonhosted.org/packages/ae/04/5b870f26a858552025a62f1649c20d29d2672c02ff3c3fb4c688ca46467a/tokenizers-0.10.2-cp37-cp37m-manylinux2010_x86_64.whl (3.3MB)\n",
            "\u001b[K     |████████████████████████████████| 3.3MB 42.2MB/s \n",
            "\u001b[?25hRequirement already satisfied: numpy>=1.17 in /usr/local/lib/python3.7/dist-packages (from transformers[sentencepiece]) (1.19.5)\n",
            "Requirement already satisfied: packaging in /usr/local/lib/python3.7/dist-packages (from transformers[sentencepiece]) (20.9)\n",
            "Requirement already satisfied: tqdm>=4.27 in /usr/local/lib/python3.7/dist-packages (from transformers[sentencepiece]) (4.41.1)\n",
            "Requirement already satisfied: filelock in /usr/local/lib/python3.7/dist-packages (from transformers[sentencepiece]) (3.0.12)\n",
            "Requirement already satisfied: requests in /usr/local/lib/python3.7/dist-packages (from transformers[sentencepiece]) (2.23.0)\n",
            "Requirement already satisfied: regex!=2019.12.17 in /usr/local/lib/python3.7/dist-packages (from transformers[sentencepiece]) (2019.12.20)\n",
            "Collecting sacremoses\n",
            "\u001b[?25l  Downloading https://files.pythonhosted.org/packages/75/ee/67241dc87f266093c533a2d4d3d69438e57d7a90abb216fa076e7d475d4a/sacremoses-0.0.45-py3-none-any.whl (895kB)\n",
            "\u001b[K     |████████████████████████████████| 901kB 45.1MB/s \n",
            "\u001b[?25hRequirement already satisfied: importlib-metadata; python_version < \"3.8\" in /usr/local/lib/python3.7/dist-packages (from transformers[sentencepiece]) (3.10.1)\n",
            "Requirement already satisfied: protobuf; extra == \"sentencepiece\" in /usr/local/lib/python3.7/dist-packages (from transformers[sentencepiece]) (3.12.4)\n",
            "Collecting sentencepiece==0.1.91; extra == \"sentencepiece\"\n",
            "\u001b[?25l  Downloading https://files.pythonhosted.org/packages/f2/e2/813dff3d72df2f49554204e7e5f73a3dc0f0eb1e3958a4cad3ef3fb278b7/sentencepiece-0.1.91-cp37-cp37m-manylinux1_x86_64.whl (1.1MB)\n",
            "\u001b[K     |████████████████████████████████| 1.1MB 45.7MB/s \n",
            "\u001b[?25hRequirement already satisfied: pyparsing>=2.0.2 in /usr/local/lib/python3.7/dist-packages (from packaging->transformers[sentencepiece]) (2.4.7)\n",
            "Requirement already satisfied: idna<3,>=2.5 in /usr/local/lib/python3.7/dist-packages (from requests->transformers[sentencepiece]) (2.10)\n",
            "Requirement already satisfied: chardet<4,>=3.0.2 in /usr/local/lib/python3.7/dist-packages (from requests->transformers[sentencepiece]) (3.0.4)\n",
            "Requirement already satisfied: certifi>=2017.4.17 in /usr/local/lib/python3.7/dist-packages (from requests->transformers[sentencepiece]) (2020.12.5)\n",
            "Requirement already satisfied: urllib3!=1.25.0,!=1.25.1,<1.26,>=1.21.1 in /usr/local/lib/python3.7/dist-packages (from requests->transformers[sentencepiece]) (1.24.3)\n",
            "Requirement already satisfied: joblib in /usr/local/lib/python3.7/dist-packages (from sacremoses->transformers[sentencepiece]) (1.0.1)\n",
            "Requirement already satisfied: six in /usr/local/lib/python3.7/dist-packages (from sacremoses->transformers[sentencepiece]) (1.15.0)\n",
            "Requirement already satisfied: click in /usr/local/lib/python3.7/dist-packages (from sacremoses->transformers[sentencepiece]) (7.1.2)\n",
            "Requirement already satisfied: zipp>=0.5 in /usr/local/lib/python3.7/dist-packages (from importlib-metadata; python_version < \"3.8\"->transformers[sentencepiece]) (3.4.1)\n",
            "Requirement already satisfied: typing-extensions>=3.6.4; python_version < \"3.8\" in /usr/local/lib/python3.7/dist-packages (from importlib-metadata; python_version < \"3.8\"->transformers[sentencepiece]) (3.7.4.3)\n",
            "Requirement already satisfied: setuptools in /usr/local/lib/python3.7/dist-packages (from protobuf; extra == \"sentencepiece\"->transformers[sentencepiece]) (56.0.0)\n",
            "Installing collected packages: tokenizers, sacremoses, sentencepiece, transformers\n",
            "  Found existing installation: sentencepiece 0.1.95\n",
            "    Uninstalling sentencepiece-0.1.95:\n",
            "      Successfully uninstalled sentencepiece-0.1.95\n",
            "Successfully installed sacremoses-0.0.45 sentencepiece-0.1.91 tokenizers-0.10.2 transformers-4.5.1\n"
          ],
          "name": "stdout"
        }
      ]
    },
    {
      "cell_type": "code",
      "metadata": {
        "colab": {
          "base_uri": "https://localhost:8080/"
        },
        "id": "qFAfRjTK8VxM",
        "outputId": "afd5b9e8-2574-436d-9ae9-5c54ac9caa3e"
      },
      "source": [
        "!pip install transformers"
      ],
      "execution_count": 3,
      "outputs": [
        {
          "output_type": "stream",
          "text": [
            "Requirement already satisfied: transformers in /usr/local/lib/python3.7/dist-packages (4.5.1)\n",
            "Requirement already satisfied: filelock in /usr/local/lib/python3.7/dist-packages (from transformers) (3.0.12)\n",
            "Requirement already satisfied: importlib-metadata; python_version < \"3.8\" in /usr/local/lib/python3.7/dist-packages (from transformers) (3.10.1)\n",
            "Requirement already satisfied: tokenizers<0.11,>=0.10.1 in /usr/local/lib/python3.7/dist-packages (from transformers) (0.10.2)\n",
            "Requirement already satisfied: tqdm>=4.27 in /usr/local/lib/python3.7/dist-packages (from transformers) (4.41.1)\n",
            "Requirement already satisfied: packaging in /usr/local/lib/python3.7/dist-packages (from transformers) (20.9)\n",
            "Requirement already satisfied: regex!=2019.12.17 in /usr/local/lib/python3.7/dist-packages (from transformers) (2019.12.20)\n",
            "Requirement already satisfied: requests in /usr/local/lib/python3.7/dist-packages (from transformers) (2.23.0)\n",
            "Requirement already satisfied: numpy>=1.17 in /usr/local/lib/python3.7/dist-packages (from transformers) (1.19.5)\n",
            "Requirement already satisfied: sacremoses in /usr/local/lib/python3.7/dist-packages (from transformers) (0.0.45)\n",
            "Requirement already satisfied: typing-extensions>=3.6.4; python_version < \"3.8\" in /usr/local/lib/python3.7/dist-packages (from importlib-metadata; python_version < \"3.8\"->transformers) (3.7.4.3)\n",
            "Requirement already satisfied: zipp>=0.5 in /usr/local/lib/python3.7/dist-packages (from importlib-metadata; python_version < \"3.8\"->transformers) (3.4.1)\n",
            "Requirement already satisfied: pyparsing>=2.0.2 in /usr/local/lib/python3.7/dist-packages (from packaging->transformers) (2.4.7)\n",
            "Requirement already satisfied: chardet<4,>=3.0.2 in /usr/local/lib/python3.7/dist-packages (from requests->transformers) (3.0.4)\n",
            "Requirement already satisfied: idna<3,>=2.5 in /usr/local/lib/python3.7/dist-packages (from requests->transformers) (2.10)\n",
            "Requirement already satisfied: urllib3!=1.25.0,!=1.25.1,<1.26,>=1.21.1 in /usr/local/lib/python3.7/dist-packages (from requests->transformers) (1.24.3)\n",
            "Requirement already satisfied: certifi>=2017.4.17 in /usr/local/lib/python3.7/dist-packages (from requests->transformers) (2020.12.5)\n",
            "Requirement already satisfied: joblib in /usr/local/lib/python3.7/dist-packages (from sacremoses->transformers) (1.0.1)\n",
            "Requirement already satisfied: click in /usr/local/lib/python3.7/dist-packages (from sacremoses->transformers) (7.1.2)\n",
            "Requirement already satisfied: six in /usr/local/lib/python3.7/dist-packages (from sacremoses->transformers) (1.15.0)\n"
          ],
          "name": "stdout"
        }
      ]
    },
    {
      "cell_type": "code",
      "metadata": {
        "id": "RDDTG4xL4A2s",
        "colab": {
          "base_uri": "https://localhost:8080/",
          "height": 316,
          "referenced_widgets": [
            "9b59210348464eeeb48ab760a77ae8c6",
            "84bc9583c7304e18a718378b8fb798e2",
            "0994ce478486453ca74c354666223018",
            "faf7029ea51a4ede8caebd6ba72aacf6",
            "19eaf3b256d6492ca856a06ace10177f",
            "806816635cfe4b659887ef74a83dad51",
            "452375c6a543429495bb2068788d2e8f",
            "6b57137a74c74213a22335f33203fd6c",
            "f63ee6ecf41d467187a20c0fd4051ed5",
            "8f42b7be5958446b8b34695529c7dea3",
            "a13163a87af749f7a25328115e75f8ee",
            "729129a3672049f898af3cf2053a12e6",
            "d40d4b6bf44d4fb7968b3fc859b6b53e",
            "733f8b104a1c43719dd7e1926c34f523",
            "f00d7d41bbed433588de5a40a8db81e3",
            "251e231ced6b4bb8866c7aa5c8a5dacb",
            "22a7913553834ca0bfe906686071b1f1",
            "442621b10656443fb14516942ea76ac3",
            "635f91b1f2d04ea881d3e3aab5bf2d8d",
            "0bffcc2e8c5c4ab981204317a5fad07d",
            "43205756eac34c46b47bd41ddc8a20cb",
            "20ec5dc049264ce3b5f509a6b6b8d5cc",
            "a15c493d28cf45808906dfa199444d6d",
            "2c3b8375dadc420aa54d07835cc43473",
            "963f4aafc1ab4e0ca5d7518d86e2c0ce",
            "c1af7a7072a04aa2bce6546dc9b6a2f8",
            "057e5c74dd4b439f9c6b1fbc4be1d647",
            "2964d792da334552bd682f77d0375604",
            "a4ef80c051a04e73b494062e189e6d21",
            "365ccf165d1b4df888d23530953fbe1a",
            "1fe6659681be4f31abf578d3e43fb61a",
            "33908e9e00704368b0b062534c5d99b6",
            "a729b218d7814921bb134d2ae4e33be6",
            "6892b72829a84f2ba8021574d30c6a8f",
            "48b3492c055f463c88e5ec35887fee9e",
            "8996f271153d41dfa704654522374c55",
            "00dd5745909949459664f9da729ca4fe",
            "0c74f01a89374f4ba58741f17757ef54",
            "36c9046f0de443a290c581ed1d209682",
            "4dffe037912943688fe0046cf7643994"
          ]
        },
        "outputId": "8344c0ae-facd-4079-cde5-5d86fb9ac6b3"
      },
      "source": [
        "from transformers import AutoTokenizer, AutoModelWithLMHead\n",
        "\n",
        "tokenizer = AutoTokenizer.from_pretrained(\"mrm8488/t5-base-finetuned-emotion\")\n",
        "\n",
        "model = AutoModelWithLMHead.from_pretrained(\"mrm8488/t5-base-finetuned-emotion\")\n",
        "\n",
        "def get_emotion(text):\n",
        "  input_ids = tokenizer.encode(text + '</s>', return_tensors='pt')\n",
        "\n",
        "  output = model.generate(input_ids=input_ids,\n",
        "               max_length=2)\n",
        "\n",
        "  dec = [tokenizer.decode(ids) for ids in output]\n",
        "  label = dec[0]\n",
        "  return label\n",
        "\n",
        " "
      ],
      "execution_count": 4,
      "outputs": [
        {
          "output_type": "display_data",
          "data": {
            "application/vnd.jupyter.widget-view+json": {
              "model_id": "9b59210348464eeeb48ab760a77ae8c6",
              "version_minor": 0,
              "version_major": 2
            },
            "text/plain": [
              "HBox(children=(FloatProgress(value=0.0, description='Downloading', max=1208.0, style=ProgressStyle(description…"
            ]
          },
          "metadata": {
            "tags": []
          }
        },
        {
          "output_type": "stream",
          "text": [
            "\n"
          ],
          "name": "stdout"
        },
        {
          "output_type": "display_data",
          "data": {
            "application/vnd.jupyter.widget-view+json": {
              "model_id": "f63ee6ecf41d467187a20c0fd4051ed5",
              "version_minor": 0,
              "version_major": 2
            },
            "text/plain": [
              "HBox(children=(FloatProgress(value=0.0, description='Downloading', max=791656.0, style=ProgressStyle(descripti…"
            ]
          },
          "metadata": {
            "tags": []
          }
        },
        {
          "output_type": "stream",
          "text": [
            "\n"
          ],
          "name": "stdout"
        },
        {
          "output_type": "display_data",
          "data": {
            "application/vnd.jupyter.widget-view+json": {
              "model_id": "22a7913553834ca0bfe906686071b1f1",
              "version_minor": 0,
              "version_major": 2
            },
            "text/plain": [
              "HBox(children=(FloatProgress(value=0.0, description='Downloading', max=1786.0, style=ProgressStyle(description…"
            ]
          },
          "metadata": {
            "tags": []
          }
        },
        {
          "output_type": "stream",
          "text": [
            "\n"
          ],
          "name": "stdout"
        },
        {
          "output_type": "display_data",
          "data": {
            "application/vnd.jupyter.widget-view+json": {
              "model_id": "963f4aafc1ab4e0ca5d7518d86e2c0ce",
              "version_minor": 0,
              "version_major": 2
            },
            "text/plain": [
              "HBox(children=(FloatProgress(value=0.0, description='Downloading', max=25.0, style=ProgressStyle(description_w…"
            ]
          },
          "metadata": {
            "tags": []
          }
        },
        {
          "output_type": "stream",
          "text": [
            "\n"
          ],
          "name": "stdout"
        },
        {
          "output_type": "stream",
          "text": [
            "/usr/local/lib/python3.7/dist-packages/transformers/models/auto/modeling_auto.py:762: FutureWarning: The class `AutoModelWithLMHead` is deprecated and will be removed in a future version. Please use `AutoModelForCausalLM` for causal language models, `AutoModelForMaskedLM` for masked language models and `AutoModelForSeq2SeqLM` for encoder-decoder models.\n",
            "  FutureWarning,\n"
          ],
          "name": "stderr"
        },
        {
          "output_type": "display_data",
          "data": {
            "application/vnd.jupyter.widget-view+json": {
              "model_id": "a729b218d7814921bb134d2ae4e33be6",
              "version_minor": 0,
              "version_major": 2
            },
            "text/plain": [
              "HBox(children=(FloatProgress(value=0.0, description='Downloading', max=891692894.0, style=ProgressStyle(descri…"
            ]
          },
          "metadata": {
            "tags": []
          }
        },
        {
          "output_type": "stream",
          "text": [
            "\n"
          ],
          "name": "stdout"
        }
      ]
    },
    {
      "cell_type": "code",
      "metadata": {
        "id": "UGE3J9Xy6f-f"
      },
      "source": [
        ""
      ],
      "execution_count": 4,
      "outputs": []
    },
    {
      "cell_type": "code",
      "metadata": {
        "colab": {
          "base_uri": "https://localhost:8080/"
        },
        "id": "SFWStKtaaJ_s",
        "outputId": "a018ea88-adec-4b97-c4a9-4922848bd526"
      },
      "source": [
        "! pip install jsonlines"
      ],
      "execution_count": 5,
      "outputs": [
        {
          "output_type": "stream",
          "text": [
            "Collecting jsonlines\n",
            "  Downloading https://files.pythonhosted.org/packages/d4/58/06f430ff7607a2929f80f07bfd820acbc508a4e977542fefcc522cde9dff/jsonlines-2.0.0-py3-none-any.whl\n",
            "Installing collected packages: jsonlines\n",
            "Successfully installed jsonlines-2.0.0\n"
          ],
          "name": "stdout"
        }
      ]
    },
    {
      "cell_type": "code",
      "metadata": {
        "id": "I9GlIiXLRlr_"
      },
      "source": [
        "import jsonlines\n",
        "import re\n",
        "from nltk.stem.porter import PorterStemmer\n",
        "use_stemmer = False\n",
        "if use_stemmer:\n",
        "        porter_stemmer = PorterStemmer()\n",
        "\n",
        "def preprocess_word(word):\n",
        "    # Remove punctuation\n",
        "    word = word.strip('\\'\"?!,.():;')\n",
        "    # Convert more than 2 letter repetitions to 2 letter\n",
        "    # funnnnny --> funny\n",
        "    word = re.sub(r'(.)\\1+', r'\\1\\1', word)\n",
        "    # Remove - & '\n",
        "    word = re.sub(r'(-|\\')', '', word)\n",
        "    return word\n",
        "\n",
        "def handle_emojis(tweet):\n",
        "    # Smile -- :), : ), :-), (:, ( :, (-:, :')\n",
        "    tweet = re.sub(r'(:\\s?\\)|:-\\)|\\(\\s?:|\\(-:|:\\'\\))', ' smile ', tweet)\n",
        "    # Laugh -- :D, : D, :-D, xD, x-D, XD, X-D\n",
        "    tweet = re.sub(r'(:\\s?D|:-D|x-?D|X-?D)', ' laugh ', tweet)\n",
        "    # Love -- <3, :*\n",
        "    tweet = re.sub(r'(<3|:\\*)', ' love ', tweet)\n",
        "    # Wink -- ;-), ;), ;-D, ;D, (;,  (-;\n",
        "    tweet = re.sub(r'(;-?\\)|;-?D|\\(-?;)', ' wink ', tweet)\n",
        "    # Sad -- :-(, : (, :(, ):, )-:\n",
        "    tweet = re.sub(r'(:\\s?\\(|:-\\(|\\)\\s?:|\\)-:)', ' sad ', tweet)\n",
        "    # Cry -- :,(, :'(, :\"(\n",
        "    tweet = re.sub(r'(:,\\(|:\\'\\(|:\"\\()', ' cry ', tweet)\n",
        "    return tweet\n",
        "\n",
        "\n",
        "def preprocess(tweet):\n",
        "  processed_tweet = []\n",
        "  # Convert to lower case\n",
        "  tweet = tweet.lower()\n",
        "  # Replaces URLs with space\n",
        "  tweet = re.sub(r'((www\\.[\\S]+)|(https?://[\\S]+))', '', tweet)\n",
        "  # Replace @handle with space\n",
        "  tweet = re.sub(r'@[\\S]+', '', tweet)\n",
        "  # # Remove URL\n",
        "  tweet = tweet.split('url')[0]\n",
        "  tweet = tweet.replace('url','')\n",
        "  tweet = tweet.replace('qt','')\n",
        "  # Remove RT (retweet)\n",
        "  tweet = re.sub(r'\\brt\\b', '', tweet)\n",
        "  # Replace 2+ dots with space\n",
        "  tweet = re.sub(r'\\.{2,}', ' ', tweet)\n",
        "  # Strip space, \" and ' from tweet\n",
        "  tweet = tweet.strip(' \"\\'')\n",
        "  # Replace emojis with either EMO_POS or EMO_NEG\n",
        "  tweet = handle_emojis(tweet)\n",
        "  # Replace multiple spaces with a single space\n",
        "  tweet = re.sub(r'\\s+', ' ', tweet)\n",
        "  words = tweet.split()\n",
        "\n",
        "  for word in words:\n",
        "      word = preprocess_word(word)\n",
        "      if True:\n",
        "          if use_stemmer:\n",
        "              word = str(porter_stemmer.stem(word))\n",
        "          processed_tweet.append(word)\n",
        "\n",
        "  return ' '.join(processed_tweet)\n",
        "\n",
        "preprocessed_tweets = {}\n",
        "sentiment_labels = {}\n",
        "with jsonlines.open('output.csv', mode='w') as writer:\n",
        "  with jsonlines.open('train_tweets.jsonl') as f:\n",
        "    for line in f.iter():\n",
        "        # Preprocess text\n",
        "        text = preprocess(line['text'])\n",
        "        emotion = get_emotion(text)\n",
        "        line['text']= text\n",
        "        line['emotion'] = emotion.replace('<pad> ','')\n",
        "        writer.write(line)"
      ],
      "execution_count": 8,
      "outputs": []
    },
    {
      "cell_type": "code",
      "metadata": {
        "id": "BsAFqx4kOUrA",
        "colab": {
          "base_uri": "https://localhost:8080/"
        },
        "outputId": "889ba0a2-48ea-4ed3-84d8-d8e52bbbba1f"
      },
      "source": [
        "print(preprocess(\" I'm more concerned with the side effects of the vaccine than I am with the symptoms of covid.\\nI'm a healthy man.\"))"
      ],
      "execution_count": 9,
      "outputs": [
        {
          "output_type": "stream",
          "text": [
            "im more concerned with the side effects of the vaccine than i am with the symptoms of covid im a healthy man\n"
          ],
          "name": "stdout"
        }
      ]
    },
    {
      "cell_type": "code",
      "metadata": {
        "id": "LXK-7wS_I2rn"
      },
      "source": [
        "import pandas as pd \n",
        "import numpy as np\n",
        "import re\n",
        "import collections\n",
        "import matplotlib.pyplot as plt\n",
        "from pathlib import Path\n",
        "\n",
        "# Packages for data preparation\n",
        "from sklearn.model_selection import train_test_split\n",
        "from nltk.corpus import stopwords\n",
        "from keras.preprocessing.text import Tokenizer\n",
        "from keras.utils.np_utils import to_categorical\n",
        "from sklearn.preprocessing import LabelEncoder\n",
        "\n",
        "# Packages for modeling\n",
        "from keras import models\n",
        "from keras import layers\n",
        "from keras import regularizers"
      ],
      "execution_count": 18,
      "outputs": []
    },
    {
      "cell_type": "code",
      "metadata": {
        "id": "iUC8gVzBJSWE"
      },
      "source": [
        "NB_WORDS = 10000  # Parameter indicating the number of words we'll put in the dictionary\n",
        "NB_START_EPOCHS = 20  # Number of epochs we usually start to train with\n",
        "BATCH_SIZE = 512  # Size of the batches used in the mini-batch gradient descent\n",
        "MAX_LEN = 20  # Maximum number of words in a sequence"
      ],
      "execution_count": 19,
      "outputs": []
    },
    {
      "cell_type": "code",
      "metadata": {
        "colab": {
          "base_uri": "https://localhost:8080/"
        },
        "id": "LCT05SJFJWZm",
        "outputId": "2d211c21-ac18-4b66-a3a3-2b75c8897625"
      },
      "source": [
        "import nltk\n",
        "nltk.download('stopwords')"
      ],
      "execution_count": 20,
      "outputs": [
        {
          "output_type": "stream",
          "text": [
            "[nltk_data] Downloading package stopwords to /root/nltk_data...\n",
            "[nltk_data]   Package stopwords is already up-to-date!\n"
          ],
          "name": "stdout"
        },
        {
          "output_type": "execute_result",
          "data": {
            "text/plain": [
              "True"
            ]
          },
          "metadata": {
            "tags": []
          },
          "execution_count": 20
        }
      ]
    },
    {
      "cell_type": "code",
      "metadata": {
        "id": "FFDkbaW2Jc3n"
      },
      "source": [
        "def deep_model(model, X_train, y_train, X_valid, y_valid):\n",
        "    '''\n",
        "    Function to train a multi-class model. The number of epochs and \n",
        "    batch_size are set by the constants at the top of the\n",
        "    notebook. \n",
        "    \n",
        "    Parameters:\n",
        "        model : model with the chosen architecture\n",
        "        X_train : training features\n",
        "        y_train : training target\n",
        "        X_valid : validation features\n",
        "        Y_valid : validation target\n",
        "    Output:\n",
        "        model training history\n",
        "    '''\n",
        "    model.compile(optimizer='rmsprop'\n",
        "                  , loss='categorical_crossentropy'\n",
        "                  , metrics=['accuracy'])\n",
        "    \n",
        "    history = model.fit(X_train\n",
        "                       , y_train\n",
        "                       , epochs=NB_START_EPOCHS\n",
        "                       , batch_size=BATCH_SIZE\n",
        "                       , validation_data=(X_valid, y_valid)\n",
        "                       , verbose=0)\n",
        "    return history"
      ],
      "execution_count": 21,
      "outputs": []
    },
    {
      "cell_type": "code",
      "metadata": {
        "id": "Jfyg5NiJJeBR"
      },
      "source": [
        "def eval_metric(model, history, metric_name):\n",
        "    '''\n",
        "    Function to evaluate a trained model on a chosen metric. \n",
        "    Training and validation metric are plotted in a\n",
        "    line chart for each epoch.\n",
        "    \n",
        "    Parameters:\n",
        "        history : model training history\n",
        "        metric_name : loss or accuracy\n",
        "    Output:\n",
        "        line chart with epochs of x-axis and metric on\n",
        "        y-axis\n",
        "    '''\n",
        "    metric = history.history[metric_name]\n",
        "    val_metric = history.history['val_' + metric_name]\n",
        "\n",
        "    e = range(1, NB_START_EPOCHS + 1)\n",
        "\n",
        "    plt.plot(e, metric, 'bo', label='Train ' + metric_name)\n",
        "    plt.plot(e, val_metric, 'b', label='Validation ' + metric_name)\n",
        "    plt.xlabel('Epoch number')\n",
        "    plt.ylabel(metric_name)\n",
        "    plt.title('Comparing training and validation ' + metric_name + ' for ' + model.name)\n",
        "    plt.legend()\n",
        "    plt.show()"
      ],
      "execution_count": 22,
      "outputs": []
    },
    {
      "cell_type": "code",
      "metadata": {
        "id": "poxswc0HJjDT"
      },
      "source": [
        "def test_model(model, X_train, y_train, X_test, y_test, epoch_stop):\n",
        "    '''\n",
        "    Function to test the model on new data after training it\n",
        "    on the full training data with the optimal number of epochs.\n",
        "    \n",
        "    Parameters:\n",
        "        model : trained model\n",
        "        X_train : training features\n",
        "        y_train : training target\n",
        "        X_test : test features\n",
        "        y_test : test target\n",
        "        epochs : optimal number of epochs\n",
        "    Output:\n",
        "        test accuracy and test loss\n",
        "    '''\n",
        "    model.fit(X_train\n",
        "              , y_train\n",
        "              , epochs=epoch_stop\n",
        "              , batch_size=BATCH_SIZE\n",
        "              , verbose=0)\n",
        "    results = model.evaluate(X_test, y_test)\n",
        "    print()\n",
        "    print('Test accuracy: {0:.2f}%'.format(results[1]*100))\n",
        "    return results"
      ],
      "execution_count": 23,
      "outputs": []
    },
    {
      "cell_type": "code",
      "metadata": {
        "id": "5KTbb8WiJpGl"
      },
      "source": [
        "def remove_stopwords(input_text):\n",
        "    '''\n",
        "    Function to remove English stopwords from a Pandas Series.\n",
        "    \n",
        "    Parameters:\n",
        "        input_text : text to clean\n",
        "    Output:\n",
        "        cleaned Pandas Series \n",
        "    '''\n",
        "    stopwords_list = stopwords.words('english')\n",
        "    # Some words which might indicate a certain sentiment are kept via a whitelist\n",
        "    whitelist = [\"n't\", \"not\", \"no\"]\n",
        "    words = input_text.split() \n",
        "    clean_words = [word for word in words if (word not in stopwords_list or word in whitelist) and len(word) > 1] \n",
        "    return \" \".join(clean_words)"
      ],
      "execution_count": 24,
      "outputs": []
    },
    {
      "cell_type": "code",
      "metadata": {
        "id": "BpDR8N0yJvO8"
      },
      "source": [
        "def remove_mentions(input_text):\n",
        "    '''\n",
        "    Function to remove mentions, preceded by @, in a Pandas Series\n",
        "    \n",
        "    Parameters:\n",
        "        input_text : text to clean\n",
        "    Output:\n",
        "        cleaned Pandas Series \n",
        "    '''\n",
        "    return re.sub(r'@\\w+', '', input_text)"
      ],
      "execution_count": 25,
      "outputs": []
    },
    {
      "cell_type": "code",
      "metadata": {
        "id": "2osZw83dJ47p"
      },
      "source": [
        "def compare_models_by_metric(model_1, model_2, model_hist_1, model_hist_2, metric):\n",
        "    '''\n",
        "    Function to compare a metric between two models \n",
        "    \n",
        "    Parameters:\n",
        "        model_hist_1 : training history of model 1\n",
        "        model_hist_2 : training history of model 2\n",
        "        metrix : metric to compare, loss, acc, val_loss or val_acc\n",
        "        \n",
        "    Output:\n",
        "        plot of metrics of both models\n",
        "    '''\n",
        "    metric_model_1 = model_hist_1.history[metric]\n",
        "    metric_model_2 = model_hist_2.history[metric]\n",
        "\n",
        "    e = range(1, NB_START_EPOCHS + 1)\n",
        "    \n",
        "    metrics_dict = {\n",
        "        'acc' : 'Training Accuracy',\n",
        "        'loss' : 'Training Loss',\n",
        "        'val_acc' : 'Validation accuracy',\n",
        "        'val_loss' : 'Validation loss'\n",
        "    }\n",
        "    \n",
        "    metric_label = metrics_dict[metric]\n",
        "\n",
        "    plt.plot(e, metric_model_1, 'bo', label=model_1.name)\n",
        "    plt.plot(e, metric_model_2, 'b', label=model_2.name)\n",
        "    plt.xlabel('Epoch number')\n",
        "    plt.ylabel(metric_label)\n",
        "    plt.title('Comparing ' + metric_label + ' between models')\n",
        "    plt.legend()\n",
        "    plt.show()"
      ],
      "execution_count": 26,
      "outputs": []
    },
    {
      "cell_type": "code",
      "metadata": {
        "id": "UivPfqtuJ8La"
      },
      "source": [
        "def optimal_epoch(model_hist):\n",
        "    '''\n",
        "    Function to return the epoch number where the validation loss is\n",
        "    at its minimum\n",
        "    \n",
        "    Parameters:\n",
        "        model_hist : training history of model\n",
        "\n",
        "    Output:\n",
        "        epoch number with minimum validation loss\n",
        "    '''\n",
        "    min_epoch = np.argmin(model_hist.history['val_loss']) + 1\n",
        "    print(\"Minimum validation loss reached in epoch {}\".format(min_epoch))\n",
        "    return min_epoch"
      ],
      "execution_count": 27,
      "outputs": []
    },
    {
      "cell_type": "code",
      "metadata": {
        "id": "u3ht0cieKI_x"
      },
      "source": [
        "import numpy\n",
        "df = pd.read_csv('data1.csv', names=[\"id\",\"text\",\"misinfo\", \"stance\"])\n",
        "\n",
        "#df1 =  pd.read_json('output.jsonl',lines='true')\n",
        "emotion=[]\n",
        "id = []\n",
        "text = []\n",
        "with jsonlines.open('output.jsonl') as f:\n",
        "    for line in f.iter():\n",
        "        # Preprocess text\n",
        "        text.append(line['text'])\n",
        "        id.append(numpy.int64(line['id']))\n",
        "        emotion.append(line['emotion'])\n",
        "\n",
        "df1 = pd.DataFrame({'id':id,'tweet':text,'emotion':emotion})\n"
      ],
      "execution_count": 148,
      "outputs": []
    },
    {
      "cell_type": "code",
      "metadata": {
        "colab": {
          "base_uri": "https://localhost:8080/"
        },
        "id": "AyWA_g8PEyiC",
        "outputId": "350d8698-06f1-4cb2-d9c9-269e28f2cd8b"
      },
      "source": [
        "df1[\"id\"][384]"
      ],
      "execution_count": 149,
      "outputs": [
        {
          "output_type": "execute_result",
          "data": {
            "text/plain": [
              "1339943721127669761"
            ]
          },
          "metadata": {
            "tags": []
          },
          "execution_count": 149
        }
      ]
    },
    {
      "cell_type": "code",
      "metadata": {
        "colab": {
          "base_uri": "https://localhost:8080/",
          "height": 80
        },
        "id": "L_q9E5baBYPx",
        "outputId": "4c1074bc-c27c-413d-ca8a-d11b155b5108"
      },
      "source": [
        "df1[df1['id']==1340015106206392321]"
      ],
      "execution_count": 150,
      "outputs": [
        {
          "output_type": "execute_result",
          "data": {
            "text/html": [
              "<div>\n",
              "<style scoped>\n",
              "    .dataframe tbody tr th:only-of-type {\n",
              "        vertical-align: middle;\n",
              "    }\n",
              "\n",
              "    .dataframe tbody tr th {\n",
              "        vertical-align: top;\n",
              "    }\n",
              "\n",
              "    .dataframe thead th {\n",
              "        text-align: right;\n",
              "    }\n",
              "</style>\n",
              "<table border=\"1\" class=\"dataframe\">\n",
              "  <thead>\n",
              "    <tr style=\"text-align: right;\">\n",
              "      <th></th>\n",
              "      <th>id</th>\n",
              "      <th>tweet</th>\n",
              "      <th>emotion</th>\n",
              "    </tr>\n",
              "  </thead>\n",
              "  <tbody>\n",
              "    <tr>\n",
              "      <th>91</th>\n",
              "      <td>1340015106206392321</td>\n",
              "      <td>so a bit like the virus then yet somehow we al...</td>\n",
              "      <td>joy</td>\n",
              "    </tr>\n",
              "  </tbody>\n",
              "</table>\n",
              "</div>"
            ],
            "text/plain": [
              "                     id  ... emotion\n",
              "91  1340015106206392321  ...     joy\n",
              "\n",
              "[1 rows x 3 columns]"
            ]
          },
          "metadata": {
            "tags": []
          },
          "execution_count": 150
        }
      ]
    },
    {
      "cell_type": "code",
      "metadata": {
        "colab": {
          "base_uri": "https://localhost:8080/"
        },
        "id": "nDk8E85f5KNA",
        "outputId": "cb3b8e29-5ba9-4eac-d429-05f8e4149561"
      },
      "source": [
        "df['stance'].value_counts()"
      ],
      "execution_count": 151,
      "outputs": [
        {
          "output_type": "execute_result",
          "data": {
            "text/plain": [
              "not_relevant    737\n",
              "agree           646\n",
              "disagree        371\n",
              "no_stance       246\n",
              "Name: stance, dtype: int64"
            ]
          },
          "metadata": {
            "tags": []
          },
          "execution_count": 151
        }
      ]
    },
    {
      "cell_type": "code",
      "metadata": {
        "colab": {
          "base_uri": "https://localhost:8080/"
        },
        "id": "rqFw8syU5TIt",
        "outputId": "efc1dd25-94b0-45dc-9c0b-ccf903c723ee"
      },
      "source": [
        "df1['emotion'].value_counts()"
      ],
      "execution_count": 152,
      "outputs": [
        {
          "output_type": "execute_result",
          "data": {
            "text/plain": [
              "fear        808\n",
              "anger       415\n",
              "joy         347\n",
              "sadness      60\n",
              "surprise      9\n",
              "love          1\n",
              "Name: emotion, dtype: int64"
            ]
          },
          "metadata": {
            "tags": []
          },
          "execution_count": 152
        }
      ]
    },
    {
      "cell_type": "code",
      "metadata": {
        "id": "khe3wiR3FaNG"
      },
      "source": [
        "df3 = pd.merge(df,df1,on = 'id', how = 'left')\n"
      ],
      "execution_count": 153,
      "outputs": []
    },
    {
      "cell_type": "code",
      "metadata": {
        "colab": {
          "base_uri": "https://localhost:8080/",
          "height": 708
        },
        "id": "zd77HwvMCDQB",
        "outputId": "d557d2cb-cfec-4f28-e7d6-f2ccaea53106"
      },
      "source": [
        "df3"
      ],
      "execution_count": 154,
      "outputs": [
        {
          "output_type": "execute_result",
          "data": {
            "text/html": [
              "<div>\n",
              "<style scoped>\n",
              "    .dataframe tbody tr th:only-of-type {\n",
              "        vertical-align: middle;\n",
              "    }\n",
              "\n",
              "    .dataframe tbody tr th {\n",
              "        vertical-align: top;\n",
              "    }\n",
              "\n",
              "    .dataframe thead th {\n",
              "        text-align: right;\n",
              "    }\n",
              "</style>\n",
              "<table border=\"1\" class=\"dataframe\">\n",
              "  <thead>\n",
              "    <tr style=\"text-align: right;\">\n",
              "      <th></th>\n",
              "      <th>id</th>\n",
              "      <th>text</th>\n",
              "      <th>misinfo</th>\n",
              "      <th>stance</th>\n",
              "      <th>tweet</th>\n",
              "      <th>emotion</th>\n",
              "    </tr>\n",
              "  </thead>\n",
              "  <tbody>\n",
              "    <tr>\n",
              "      <th>0</th>\n",
              "      <td>1340015106206392321</td>\n",
              "      <td>@meetnpatatas @RealMattCouch @Progressivemagi ...</td>\n",
              "      <td>More people will die as a result of a negative...</td>\n",
              "      <td>agree</td>\n",
              "      <td>so a bit like the virus then yet somehow we al...</td>\n",
              "      <td>joy</td>\n",
              "    </tr>\n",
              "    <tr>\n",
              "      <th>1</th>\n",
              "      <td>1340570906662322176</td>\n",
              "      <td>@armyveteran13 I said when the virus was first...</td>\n",
              "      <td>The COVID-19 vaccine causes infertility or mis...</td>\n",
              "      <td>agree</td>\n",
              "      <td>i said when the virus was first declared that ...</td>\n",
              "      <td>anger</td>\n",
              "    </tr>\n",
              "    <tr>\n",
              "      <th>2</th>\n",
              "      <td>1344724371865182208</td>\n",
              "      <td>Bombshell Interview With Del Bigtree: COVID Va...</td>\n",
              "      <td>The COVID-19 vaccine causes infertility or mis...</td>\n",
              "      <td>agree</td>\n",
              "      <td>bombshell interview with del bigtree covid vac...</td>\n",
              "      <td>anger</td>\n",
              "    </tr>\n",
              "    <tr>\n",
              "      <th>3</th>\n",
              "      <td>1345709249469546496</td>\n",
              "      <td>YOLO- berichtgeving:   \"COVID Vaccine Caused 4...</td>\n",
              "      <td>The COVID-19 vaccine causes Bell's palsy.</td>\n",
              "      <td>agree</td>\n",
              "      <td>yolo berichtgeving covid vaccine caused 4 peop...</td>\n",
              "      <td>anger</td>\n",
              "    </tr>\n",
              "    <tr>\n",
              "      <th>4</th>\n",
              "      <td>1344586458791723008</td>\n",
              "      <td>@FatEmperor Natural immunity, I build up my bo...</td>\n",
              "      <td>Natural COVID-19 immunity is better than immun...</td>\n",
              "      <td>agree</td>\n",
              "      <td>natural immunity i build up my body for 19 yea...</td>\n",
              "      <td>anger</td>\n",
              "    </tr>\n",
              "    <tr>\n",
              "      <th>...</th>\n",
              "      <td>...</td>\n",
              "      <td>...</td>\n",
              "      <td>...</td>\n",
              "      <td>...</td>\n",
              "      <td>...</td>\n",
              "      <td>...</td>\n",
              "    </tr>\n",
              "    <tr>\n",
              "      <th>1995</th>\n",
              "      <td>1340059526641410048</td>\n",
              "      <td>If the coronavirus vaccine doesn't cause autis...</td>\n",
              "      <td>The COVID-19 vaccine causes infertility or mis...</td>\n",
              "      <td>not_relevant</td>\n",
              "      <td>if the coronavirus vaccine doesnt cause autism...</td>\n",
              "      <td>fear</td>\n",
              "    </tr>\n",
              "    <tr>\n",
              "      <th>1996</th>\n",
              "      <td>1340059526641410048</td>\n",
              "      <td>If the coronavirus vaccine doesn't cause autis...</td>\n",
              "      <td>The COVID-19 vaccine causes Bell's palsy.</td>\n",
              "      <td>not_relevant</td>\n",
              "      <td>if the coronavirus vaccine doesnt cause autism...</td>\n",
              "      <td>fear</td>\n",
              "    </tr>\n",
              "    <tr>\n",
              "      <th>1997</th>\n",
              "      <td>1340342873867186177</td>\n",
              "      <td>I'm more concerned with the side effects of th...</td>\n",
              "      <td>There are severe side effects of the COVID-19 ...</td>\n",
              "      <td>agree</td>\n",
              "      <td>im more concerned with the side effects of the...</td>\n",
              "      <td>fear</td>\n",
              "    </tr>\n",
              "    <tr>\n",
              "      <th>1998</th>\n",
              "      <td>1340342873867186177</td>\n",
              "      <td>I'm more concerned with the side effects of th...</td>\n",
              "      <td>More people will die as a result of a negative...</td>\n",
              "      <td>agree</td>\n",
              "      <td>im more concerned with the side effects of the...</td>\n",
              "      <td>fear</td>\n",
              "    </tr>\n",
              "    <tr>\n",
              "      <th>1999</th>\n",
              "      <td>1343573920440582147</td>\n",
              "      <td>Covid vaccine giving ppl of color Bell's palsy...</td>\n",
              "      <td>The COVID-19 vaccine causes Bell's palsy.</td>\n",
              "      <td>agree</td>\n",
              "      <td>covid vaccine giving ppl of color bells palsy ...</td>\n",
              "      <td>fear</td>\n",
              "    </tr>\n",
              "  </tbody>\n",
              "</table>\n",
              "<p>2000 rows × 6 columns</p>\n",
              "</div>"
            ],
            "text/plain": [
              "                       id  ... emotion\n",
              "0     1340015106206392321  ...     joy\n",
              "1     1340570906662322176  ...   anger\n",
              "2     1344724371865182208  ...   anger\n",
              "3     1345709249469546496  ...   anger\n",
              "4     1344586458791723008  ...   anger\n",
              "...                   ...  ...     ...\n",
              "1995  1340059526641410048  ...    fear\n",
              "1996  1340059526641410048  ...    fear\n",
              "1997  1340342873867186177  ...    fear\n",
              "1998  1340342873867186177  ...    fear\n",
              "1999  1343573920440582147  ...    fear\n",
              "\n",
              "[2000 rows x 6 columns]"
            ]
          },
          "metadata": {
            "tags": []
          },
          "execution_count": 154
        }
      ]
    },
    {
      "cell_type": "code",
      "metadata": {
        "colab": {
          "base_uri": "https://localhost:8080/"
        },
        "id": "pZvhJ6HpCNob",
        "outputId": "c497dc39-b305-4a13-9536-b5170fc0d1a4"
      },
      "source": [
        "\n",
        "df3['tweet'].value_counts()"
      ],
      "execution_count": 155,
      "outputs": [
        {
          "output_type": "execute_result",
          "data": {
            "text/plain": [
              "i am not going to take the covid19 vaccine                                                                                                                                                                                                                                          8\n",
              "the covid19 vaccine is fake                                                                                                                                                                                                                                                         7\n",
              "the covid19 vaccine could kill you with a allergic reaction 👀                                                                                                                                                                                                                       7\n",
              "will the covid19 vaccine cause infertility in women                                                                                                                                                                                                                                 6\n",
              "the covid vaccine might be harmful                                                                                                                                                                                                                                                  6\n",
              "                                                                                                                                                                                                                                                                                   ..\n",
              "marylands catholic bishops in a dec 12 letter have encouraged catholics to receive the covid19 vaccines                                                                                                                                                                             1\n",
              "a nashville nurse took the covid vaccine and she now has bells palsy 🙏🏿 praying for her                                                                                                                                                                                             1\n",
              "covid vaccine also contains a strain of the coronavirus itself — taken from chimpanzees — and engineered to create the spike protein of sarscov2 the virus that causes covid19                                                                                                      1\n",
              "no more lockdowns zak everyone on earth will get covid 19 eiether by injection or community spread i trust my immune system with 99% effectiveness over a 92% effective untested vaccine from people who preach population control and have a track record of infertility/injury    1\n",
              "there are no cures for covid because covid isnt a real disease its a globalist smokeshow to introduce a vaccine that will infect the entire human population with chemicals and gatestm nanochips to turn humans gay for population control by stopping breeding                    1\n",
              "Name: tweet, Length: 1617, dtype: int64"
            ]
          },
          "metadata": {
            "tags": []
          },
          "execution_count": 155
        }
      ]
    },
    {
      "cell_type": "code",
      "metadata": {
        "colab": {
          "base_uri": "https://localhost:8080/"
        },
        "id": "EJxlzQYNKO17",
        "outputId": "a0d8c6f1-61d0-4823-ad8e-e50944ab6a34"
      },
      "source": [
        "df3[\"comb\"] = df3[\"tweet\"] + \" \" + df3[\"emotion\"] + \" \" + df3[\"misinfo\"] \n",
        "df3 = df3.reindex(np.random.permutation(df3.index))  \n",
        "df3 = df3[['comb', 'stance']]\n",
        "df3.text = df3.comb.apply(remove_stopwords).apply(remove_mentions)\n",
        "df3.head(10)\n",
        "df3.to_csv('df3.csv')"
      ],
      "execution_count": 156,
      "outputs": [
        {
          "output_type": "stream",
          "text": [
            "/usr/local/lib/python3.7/dist-packages/ipykernel_launcher.py:4: UserWarning: Pandas doesn't allow columns to be created via a new attribute name - see https://pandas.pydata.org/pandas-docs/stable/indexing.html#attribute-access\n",
            "  after removing the cwd from sys.path.\n"
          ],
          "name": "stderr"
        }
      ]
    },
    {
      "cell_type": "code",
      "metadata": {
        "id": "DFbbrKNOMb3C",
        "colab": {
          "base_uri": "https://localhost:8080/"
        },
        "outputId": "69c86b69-9736-4338-9044-67510a6e3dfc"
      },
      "source": [
        "X_train, X_test, y_train, y_test = train_test_split(df3.comb, df3.stance, test_size=0.1, random_state=37)\n",
        "print('# Train data samples:', X_train.shape[0])\n",
        "print('# Test data samples:', X_test.shape[0])\n",
        "assert X_train.shape[0] == y_train.shape[0]\n",
        "assert X_test.shape[0] == y_test.shape[0]"
      ],
      "execution_count": 157,
      "outputs": [
        {
          "output_type": "stream",
          "text": [
            "# Train data samples: 1800\n",
            "# Test data samples: 200\n"
          ],
          "name": "stdout"
        }
      ]
    },
    {
      "cell_type": "code",
      "metadata": {
        "colab": {
          "base_uri": "https://localhost:8080/"
        },
        "id": "jFG7mjDNCqGH",
        "outputId": "6077f8b7-4f94-49cf-9f9e-5da16aa91382"
      },
      "source": [
        "tk = Tokenizer(num_words=NB_WORDS,\n",
        "               filters='!\"#$%&()*+,-./:;<=>?@[\\\\]^_`{|}~\\t\\n',\n",
        "               lower=True,\n",
        "               char_level=False,\n",
        "               split=' ')\n",
        "tk.fit_on_texts(X_train)\n",
        "\n",
        "print('Fitted tokenizer on {} documents'.format(tk.document_count))\n",
        "print('{} words in dictionary'.format(tk.num_words))\n",
        "print('Top 5 most common words are:', collections.Counter(tk.word_counts).most_common(5))"
      ],
      "execution_count": 158,
      "outputs": [
        {
          "output_type": "stream",
          "text": [
            "Fitted tokenizer on 1800 documents\n",
            "10000 words in dictionary\n",
            "Top 5 most common words are: [('the', 4554), ('vaccine', 3348), ('covid', 3104), ('19', 2173), ('a', 1687)]\n"
          ],
          "name": "stdout"
        }
      ]
    },
    {
      "cell_type": "code",
      "metadata": {
        "id": "O3nEmrunL8ts"
      },
      "source": [
        "X_train_oh = tk.texts_to_matrix(X_train, mode='binary')\n",
        "X_test_oh = tk.texts_to_matrix(X_test, mode='binary')"
      ],
      "execution_count": 159,
      "outputs": []
    },
    {
      "cell_type": "code",
      "metadata": {
        "id": "VAiAC6GgMA2J"
      },
      "source": [
        "label_to_index = {\n",
        "    'not_relevant': 0, \n",
        "    'no_stance': 1, \n",
        "    'disagree': 2,\n",
        "    'agree': 3\n",
        "}\n",
        "\n",
        "y_train_oh = y_train.apply(\n",
        "    lambda x: label_to_index[x])\n",
        "    \n",
        "y_train_oh = np.asarray(y_train_oh) \\\n",
        "            .astype('float32')\n",
        "\n",
        "y_test_oh = y_test.apply(\n",
        "    lambda x: label_to_index[x])\n",
        "\n",
        "y_test_oh = np.asarray(y_test_oh) \\\n",
        "            .astype('float32')"
      ],
      "execution_count": 160,
      "outputs": []
    },
    {
      "cell_type": "code",
      "metadata": {
        "colab": {
          "base_uri": "https://localhost:8080/"
        },
        "id": "tHTBQlcxMEMc",
        "outputId": "52eea7aa-49c7-426f-f0fd-7af0b1ce6c85"
      },
      "source": [
        "y_train_oh[:5]"
      ],
      "execution_count": 161,
      "outputs": [
        {
          "output_type": "execute_result",
          "data": {
            "text/plain": [
              "array([1., 3., 0., 0., 0.], dtype=float32)"
            ]
          },
          "metadata": {
            "tags": []
          },
          "execution_count": 161
        }
      ]
    },
    {
      "cell_type": "code",
      "metadata": {
        "colab": {
          "base_uri": "https://localhost:8080/"
        },
        "id": "3Hgvrdm7MIbe",
        "outputId": "3b16b05d-1baf-4a33-c699-d9c00df3cae0"
      },
      "source": [
        "\n",
        "y_train"
      ],
      "execution_count": 162,
      "outputs": [
        {
          "output_type": "execute_result",
          "data": {
            "text/plain": [
              "393        no_stance\n",
              "1823           agree\n",
              "264     not_relevant\n",
              "1126    not_relevant\n",
              "1903    not_relevant\n",
              "            ...     \n",
              "32         no_stance\n",
              "1551    not_relevant\n",
              "1720       no_stance\n",
              "1535           agree\n",
              "427     not_relevant\n",
              "Name: stance, Length: 1800, dtype: object"
            ]
          },
          "metadata": {
            "tags": []
          },
          "execution_count": 162
        }
      ]
    },
    {
      "cell_type": "code",
      "metadata": {
        "colab": {
          "base_uri": "https://localhost:8080/"
        },
        "id": "tYArywgtMQ3s",
        "outputId": "1ff77f4b-6f21-4606-a221-fb8506059386"
      },
      "source": [
        "le = LabelEncoder()\n",
        "y_train_le = le.fit_transform(y_train)\n",
        "y_test_le = le.transform(y_test)\n",
        "y_train_oh = to_categorical(y_train_le)\n",
        "y_test_oh = to_categorical(y_test_le)\n",
        "print('\"{}\" is converted into {}'.format(y_train_le[0], y_train_oh[0]))"
      ],
      "execution_count": 163,
      "outputs": [
        {
          "output_type": "stream",
          "text": [
            "\"2\" is converted into [0. 0. 1. 0.]\n"
          ],
          "name": "stdout"
        }
      ]
    },
    {
      "cell_type": "code",
      "metadata": {
        "colab": {
          "base_uri": "https://localhost:8080/"
        },
        "id": "Ar2ydDWqMWB1",
        "outputId": "bfbb95bd-a440-4092-fe09-94ca2d190a8e"
      },
      "source": [
        "y_train_le"
      ],
      "execution_count": 164,
      "outputs": [
        {
          "output_type": "execute_result",
          "data": {
            "text/plain": [
              "array([2, 0, 3, ..., 2, 0, 3])"
            ]
          },
          "metadata": {
            "tags": []
          },
          "execution_count": 164
        }
      ]
    },
    {
      "cell_type": "code",
      "metadata": {
        "colab": {
          "base_uri": "https://localhost:8080/"
        },
        "id": "B55r5NzBMZh7",
        "outputId": "04902880-7722-4e42-ac5c-0cc04017eea9"
      },
      "source": [
        "y_train_oh[:5]"
      ],
      "execution_count": 165,
      "outputs": [
        {
          "output_type": "execute_result",
          "data": {
            "text/plain": [
              "array([[0., 0., 1., 0.],\n",
              "       [1., 0., 0., 0.],\n",
              "       [0., 0., 0., 1.],\n",
              "       [0., 0., 0., 1.],\n",
              "       [0., 0., 0., 1.]], dtype=float32)"
            ]
          },
          "metadata": {
            "tags": []
          },
          "execution_count": 165
        }
      ]
    },
    {
      "cell_type": "code",
      "metadata": {
        "colab": {
          "base_uri": "https://localhost:8080/"
        },
        "id": "zBpJizphMeZw",
        "outputId": "d0be46c4-05f6-4af7-af2d-f453a6c7c624"
      },
      "source": [
        "X_train_rest, X_valid, y_train_rest, y_valid = train_test_split(X_train_oh, y_train_oh, test_size=0.1, random_state=37)\n",
        "\n",
        "assert X_valid.shape[0] == y_valid.shape[0]\n",
        "assert X_train_rest.shape[0] == y_train_rest.shape[0]\n",
        "\n",
        "print('Shape of validation set:',X_valid.shape)"
      ],
      "execution_count": 166,
      "outputs": [
        {
          "output_type": "stream",
          "text": [
            "Shape of validation set: (180, 10000)\n"
          ],
          "name": "stdout"
        }
      ]
    },
    {
      "cell_type": "code",
      "metadata": {
        "colab": {
          "base_uri": "https://localhost:8080/"
        },
        "id": "LzndY-v4MjEC",
        "outputId": "eb6437bd-aefa-4b6e-9b28-3238ad2dd9a9"
      },
      "source": [
        "drop_model = models.Sequential()\n",
        "drop_model.add(layers.Dense(128, activation='relu', input_shape=(NB_WORDS,)))\n",
        "drop_model.add(layers.Dropout(0.5))\n",
        "drop_model.add(layers.Dense(64, activation='relu'))\n",
        "drop_model.add(layers.Dropout(0.5))\n",
        "drop_model.add(layers.Dense(32, activation='relu'))\n",
        "drop_model.add(layers.Dropout(0.5))\n",
        "drop_model.add(layers.Dense(512, activation='relu'))\n",
        "drop_model.add(layers.Dense(4, activation='softmax'))\n",
        "drop_model.summary()"
      ],
      "execution_count": 167,
      "outputs": [
        {
          "output_type": "stream",
          "text": [
            "Model: \"sequential\"\n",
            "_________________________________________________________________\n",
            "Layer (type)                 Output Shape              Param #   \n",
            "=================================================================\n",
            "dense (Dense)                (None, 128)               1280128   \n",
            "_________________________________________________________________\n",
            "dropout (Dropout)            (None, 128)               0         \n",
            "_________________________________________________________________\n",
            "dense_1 (Dense)              (None, 64)                8256      \n",
            "_________________________________________________________________\n",
            "dropout_1 (Dropout)          (None, 64)                0         \n",
            "_________________________________________________________________\n",
            "dense_2 (Dense)              (None, 32)                2080      \n",
            "_________________________________________________________________\n",
            "dropout_2 (Dropout)          (None, 32)                0         \n",
            "_________________________________________________________________\n",
            "dense_3 (Dense)              (None, 512)               16896     \n",
            "_________________________________________________________________\n",
            "dense_4 (Dense)              (None, 4)                 2052      \n",
            "=================================================================\n",
            "Total params: 1,309,412\n",
            "Trainable params: 1,309,412\n",
            "Non-trainable params: 0\n",
            "_________________________________________________________________\n"
          ],
          "name": "stdout"
        }
      ]
    },
    {
      "cell_type": "code",
      "metadata": {
        "colab": {
          "base_uri": "https://localhost:8080/"
        },
        "id": "JEBQtygUMpqx",
        "outputId": "b2f7d5d9-8312-4012-93d7-97272295979b"
      },
      "source": [
        "\n",
        "drop_history = deep_model(drop_model, X_train_rest, y_train_rest, X_valid, y_valid)\n",
        "drop_min = optimal_epoch(drop_history)"
      ],
      "execution_count": 168,
      "outputs": [
        {
          "output_type": "stream",
          "text": [
            "Minimum validation loss reached in epoch 15\n"
          ],
          "name": "stdout"
        }
      ]
    },
    {
      "cell_type": "code",
      "metadata": {
        "colab": {
          "base_uri": "https://localhost:8080/"
        },
        "id": "Ybh4FwtEMxLm",
        "outputId": "8209a308-9d83-4ed7-cc30-0fd45a69023f"
      },
      "source": [
        "drop_results = test_model(drop_model, X_train_oh, y_train_oh, X_test_oh, y_test_oh, drop_min)"
      ],
      "execution_count": 169,
      "outputs": [
        {
          "output_type": "stream",
          "text": [
            "7/7 [==============================] - 0s 4ms/step - loss: 1.9232 - accuracy: 0.5400\n",
            "\n",
            "Test accuracy: 54.00%\n"
          ],
          "name": "stdout"
        }
      ]
    },
    {
      "cell_type": "code",
      "metadata": {
        "id": "CgX8WZCYNKYZ"
      },
      "source": [
        "def get_target_text(m_id):\n",
        "  m_id = int(m_id)\n",
        "  if m_id == 1:\n",
        "    return \"RNA alters a person's DNA when taking the COVID-19 vaccine.\"\n",
        "  if m_id == 2:\n",
        "    return \"The COVID-19 vaccine causes infertility or miscarriages in women.\"\n",
        "  if m_id == 3:\n",
        "    return \"Natural COVID-19 immunity is better than immunity derived from a COVID-19 vaccine.\"\n",
        "  if m_id == 4:\n",
        "    return \"The COVID-19 vaccine causes Bell's palsy.\"\n",
        "  if m_id == 7:\n",
        "    return \"The COVID-19 vaccine contains tissue from aborted fetuses.\"\n",
        "  if m_id == 8:\n",
        "    return \"The COVID-19 vaccine was developed to control the general population either through microchip tracking or nanotransducers in our brains.\"\n",
        "  if m_id == 9:\n",
        "    return \"More people will die as a result of a negative side effect to the COVID-19 vaccine than would actually die from the coronavirus.\"\n",
        "  if m_id == 10:\n",
        "    return \"There are severe side effects of the COVID-19 vaccines, worse than having the virus.\""
      ],
      "execution_count": 170,
      "outputs": []
    },
    {
      "cell_type": "code",
      "metadata": {
        "id": "8YP-Me_eNSAc"
      },
      "source": [
        "def predict_stance(tweet):\n",
        "  stance_vector = drop_model.predict(tweet)[0]\n",
        "  stance = np.argmax(stance_vector)\n",
        "  if stance == 0:\n",
        "    stance_label = 'agree'\n",
        "  elif stance == 1:\n",
        "    stance_label = 'disagree'\n",
        "  elif stance == 2:\n",
        "    stance_label = 'no_stance'\n",
        "  else:\n",
        "    stance_label = 'not_relevant'\n",
        "  \n",
        "  return stance_vector, stance_label"
      ],
      "execution_count": 172,
      "outputs": []
    },
    {
      "cell_type": "code",
      "metadata": {
        "id": "N_gNJ3iyNiF2"
      },
      "source": [
        "def predict_emotion_stance(tweet, m_id):\n",
        "  target = get_target_text(m_id)\n",
        "  emotion = get_emotion(tweet)\n",
        "  input = tweet + \" \" + emotion + \" \" + target\n",
        "  input = remove_mentions(input)\n",
        "  input = remove_stopwords(input)\n",
        "  input = tk.texts_to_matrix([input], mode='binary')\n",
        "  stance_vector, stance_label = predict_stance(input)\n",
        "\n",
        "  return target, emotion, stance_label, stance_vector\n",
        "  #print(\"Tweet:\",tweet, \"\\nM_target:\", target, \"\\nSentiment:\", sentiment,\"\\n\",sentiment_scores, \"\\nStance:\", stance_label, \"\\n\",stance_vector)"
      ],
      "execution_count": 173,
      "outputs": []
    },
    {
      "cell_type": "code",
      "metadata": {
        "colab": {
          "base_uri": "https://localhost:8080/"
        },
        "id": "vBR0YJqdONar",
        "outputId": "2e696555-d26c-415e-9a36-375c8fda13a3"
      },
      "source": [
        "tweet = \"My mom desen't want me to continue my education because we have to get a covid vaccine and she says it's a 'fact' that it causes infertility.\"\n",
        "target, emotion,stance_label, stance_vector = predict_emotion_stance(tweet, 2)\n",
        "print(\"Tweet:\",tweet, \"\\nM_target:\", target, \"\\nEmotion:\", emotion,\n",
        " \"\\nStance:\", stance_label, \"\\n\",stance_vector)"
      ],
      "execution_count": 183,
      "outputs": [
        {
          "output_type": "stream",
          "text": [
            "Tweet: My mom desen't want me to continue my education because we have to get a covid vaccine and she says it's a 'fact' that it causes infertility. \n",
            "M_target: The COVID-19 vaccine causes infertility or miscarriages in women. \n",
            "Emotion: <pad> anger \n",
            "Stance: agree \n",
            " [0.94985175 0.01574775 0.00825749 0.02614298]\n"
          ],
          "name": "stdout"
        }
      ]
    },
    {
      "cell_type": "code",
      "metadata": {
        "colab": {
          "base_uri": "https://localhost:8080/"
        },
        "id": "km16YAq7O_2u",
        "outputId": "d1909d88-70f8-4a04-a71f-dd54bf2b78f7"
      },
      "source": [
        "tweet  = \"The vaccine is super cool\"\n",
        "target, emotion,stance_label, stance_vector = predict_emotion_stance(tweet, 3)\n",
        "print(\"Tweet:\",tweet, \"\\nM_target:\", target, \"\\nEmotion:\", emotion,\n",
        " \"\\nStance:\", stance_label, \"\\n\",stance_vector)"
      ],
      "execution_count": 182,
      "outputs": [
        {
          "output_type": "stream",
          "text": [
            "Tweet: The vaccine is super cool \n",
            "M_target: Natural COVID-19 immunity is better than immunity derived from a COVID-19 vaccine. \n",
            "Emotion: <pad> joy \n",
            "Stance: agree \n",
            " [0.62334496 0.00338942 0.011284   0.3619816 ]\n"
          ],
          "name": "stdout"
        }
      ]
    }
  ]
}